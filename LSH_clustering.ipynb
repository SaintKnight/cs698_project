{
 "cells": [
  {
   "cell_type": "markdown",
   "metadata": {},
   "source": [
    "# Locality Sensitive Hash Clustering\n",
    "\n",
    "Purpose: To meet Aim 1 of our project, implementing fly LSH in python and to test it on a facial image dataset"
   ]
  },
  {
   "cell_type": "markdown",
   "metadata": {},
   "source": [
    "## 1. Defining the fly LSH \n",
    "\n",
    "* ~50 ORNs. which feedforward into an equal amount of PNs\n",
    "* Center The Mean (Firing rate of ORN is proportional to concentration of odor, this is removed for PN) \n",
    "    * all PNs firing rates are close to the mean\n",
    "    * \"standard process\" via divisive normalizing (ref 8)\n",
    "    * prevents mixing up odor intensity with odor type\n",
    "* ~50 PNs (but equal to the amount of ORNs)\n",
    "* 2000 KENYON Cells, sparse/randomly connected to 50 PNs\n",
    "* APL inhibitory neuron, which silences all but the highest activity KC neurons."
   ]
  },
  {
   "cell_type": "markdown",
   "metadata": {},
   "source": [
    "## 2. Fly LSH Implementation"
   ]
  },
  {
   "cell_type": "code",
   "execution_count": 2,
   "metadata": {},
   "outputs": [],
   "source": [
    "import os\n",
    "import pickle\n",
    "from typing import Generic\n",
    "\n",
    "import numpy as np\n",
    "from scipy.sparse import csr_matrix\n",
    "\n",
    "from sklearn.datasets import make_blobs\n",
    "from sklearn.cluster import KMeans\n",
    "from skimage.io import imread, imshow\n",
    "from skimage.transform import resize\n",
    "#from sklearn import neighbors\n",
    "#from sklearn.neighbors import NearestNeighbors\n",
    "\n",
    "import matplotlib.pyplot as plt\n",
    "from matplotlib.colors import ListedColormap\n",
    "from bokeh.plotting import figure,output_file,show\n",
    "\n",
    "# custom src modules\n",
    "from src import utils\n",
    "\n",
    "%matplotlib inline"
   ]
  },
  {
   "cell_type": "code",
   "execution_count": 3,
   "metadata": {},
   "outputs": [],
   "source": [
    "class Flylsh(): #seed: int=42):\n",
    "    ''' Fly Olfactory Network as proposed by Dasgupta et al 2017.\n",
    "\n",
    "        :param seed: (int) random seed for numpy random generator\n",
    "        :param num_orn: (int) number of ORNs for fly input (should be dimension of data)\n",
    "        :param num_pn: (int) number of PNs - must be same as num_orn\n",
    "        :param num_kc: (int) number of KCs neurons - default should be 40-fold of num_pc\n",
    "        :param p_pn_kc: (float) probability of PN->KC connection - default ~6 per\n",
    "\n",
    "        :return apl: ([csr_matrix, ...]), list of LSH for a single datum input.\n",
    "\n",
    "    '''\n",
    "    \n",
    "    @utils.benchmark\n",
    "    def __init__(self, seed: int=42, \n",
    "                 num_orn: int=50,\n",
    "                 num_pn: int=50,\n",
    "                 num_kc: int=2000,\n",
    "                 p_pn_kc: float=0.003):\n",
    "        np.random.seed(seed)\n",
    "        self.data = None\n",
    "        self.labels = None\n",
    "        self.hashlen = None\n",
    "        self.orn = np.random.rand(num_orn,)\n",
    "        self.pn = np.random.rand(num_pn,)\n",
    "        self.num_kc = num_kc\n",
    "        self.kc = csr_matrix(np.random.rand(num_kc,num_pn), shape=(num_kc, num_pn))\n",
    "        # binary probability mask for mean of 6 neurons connected to each Kenyon cell\n",
    "        self.mask = np.random.choice([0, 1],\n",
    "                                     size=(self.pn.shape[0],self.kc.shape[0]),\n",
    "                                     p=[1-p_pn_kc, p_pn_kc])\n",
    "        #self.W = np.random.rand(self.pn.shape[0], self.kc.shape[0]) * self.mask\n",
    "        self.W = self.mask\n",
    "        self.apl = csr_matrix(self.kc,shape=self.kc.shape)\n",
    "        \n",
    "    def orn_to_pn(self):\n",
    "        ''' Center the Mean step. \n",
    "        \n",
    "            self.orn should be a (1-D) column vector,\n",
    "            \n",
    "            return: mean_centered column vector\n",
    "        '''\n",
    "        return self.orn - np.mean(self.orn, axis=0)\n",
    "        \n",
    "    def pn_to_kc(self): # 40-fold expansion\n",
    "        ''' 40-fold expansion to high-dimensional array. \n",
    "        \n",
    "            self.pn: column vector, same dimensions as self.orn\n",
    "            self.W: a binary mask, with second dimension a 40-fold increase\n",
    "            of self.pn[0]\n",
    "        \n",
    "            return: larger sparse, randomly connected array \n",
    "        '''\n",
    "        return csr_matrix((self.pn[:, None] * self.W).T)\n",
    "    \n",
    "    def wta(self, hashlen: float=0.05):\n",
    "        ''' Winner Take All inhibition neuron. \n",
    "        \n",
    "            kc to wta (via APL inhibitory neuron).\n",
    "            \n",
    "            param: hashlen: how long output hash should be truncated to \n",
    "            as fraction of the input data length (5% default)\n",
    "            '''\n",
    "        \n",
    "        # of the 2000 neurons, 295 are currently non-zero\n",
    "        top_k = int(self.kc.shape[0] * hashlen)\n",
    "\n",
    "        kc_sum = np.sum(self.kc, axis=1) / self.num_kc    # divide by bin width, for discretization\n",
    "        #kc_abs = abs(kc_sum)\n",
    "\n",
    "        #eps = kc_abs[np.argsort(abs(kc_abs))][::-1][top_k-1]\n",
    "        eps = float(kc_sum[np.argsort(kc_sum)][::-1][top_k-1])\n",
    "        # selects to kth largest element value. all the rest get turned to zero\n",
    "        apl = kc_sum\n",
    "        apl[abs(apl) < eps] = 0\n",
    "        self.apl = csr_matrix(apl)\n",
    "        \n",
    "        return self.apl\n",
    "     \n",
    "    #@utils.benchmark\n",
    "    def FeedForward(self, datum, hashlen: float=0.05):\n",
    "        self.hashlen = hashlen\n",
    "        datum = datum.ravel()\n",
    "        assert datum.shape == self.orn.shape\n",
    "        # feed inputs into orn\n",
    "        self.orn = datum\n",
    "        # orn to pn, center the means\n",
    "        self.pn = self.orn_to_pn()\n",
    "        # pn to kenyon, project to sparse projected\n",
    "        self.kc = self.pn_to_kc()\n",
    "        # WTA algorihm\n",
    "        self.apl = self.wta(hashlen=hashlen)\n",
    "        \n",
    "        return self.apl\n"
   ]
  },
  {
   "cell_type": "code",
   "execution_count": 3,
   "metadata": {},
   "outputs": [
    {
     "name": "stdout",
     "output_type": "stream",
     "text": [
      "function:  __init__ benchmark:  0.007740289855072463 s\n"
     ]
    }
   ],
   "source": [
    "fly = Flylsh()\n",
    "data = np.random.rand(50,)\n",
    "fly.FeedForward(data)\n",
    "apl = fly.apl"
   ]
  },
  {
   "cell_type": "code",
   "execution_count": 4,
   "metadata": {},
   "outputs": [
    {
     "data": {
      "text/plain": [
       "6.4"
      ]
     },
     "execution_count": 4,
     "metadata": {},
     "output_type": "execute_result"
    }
   ],
   "source": [
    "# PNs must connect to KCs with about 6 connections per KC.\n",
    "# show that this is the case\n",
    "np.mean(np.sum(fly.W, axis=1))"
   ]
  },
  {
   "cell_type": "markdown",
   "metadata": {},
   "source": [
    "## 3. (a) Fly LSH on small dataset, including distance calculation and comparison k-nn (sklearn)"
   ]
  },
  {
   "cell_type": "code",
   "execution_count": 5,
   "metadata": {},
   "outputs": [],
   "source": [
    "data = make_blobs(n_samples=100, \n",
    "                  n_features=500, \n",
    "                  centers=None, \n",
    "                  cluster_std=1.0, \n",
    "                  shuffle=True, \n",
    "                  random_state=42)\n",
    "labels = data[1]\n",
    "data = data[0]"
   ]
  },
  {
   "cell_type": "code",
   "execution_count": 6,
   "metadata": {},
   "outputs": [
    {
     "data": {
      "text/plain": [
       "(100, 500)"
      ]
     },
     "execution_count": 6,
     "metadata": {},
     "output_type": "execute_result"
    }
   ],
   "source": [
    "data.shape"
   ]
  },
  {
   "cell_type": "code",
   "execution_count": 7,
   "metadata": {},
   "outputs": [
    {
     "name": "stdout",
     "output_type": "stream",
     "text": [
      "function:  __init__ benchmark:  0.6350896231884047 s\n"
     ]
    }
   ],
   "source": [
    "fly = Flylsh(num_orn=data.shape[1], num_pn=data.shape[1], num_kc=data.shape[1]*40)"
   ]
  },
  {
   "cell_type": "code",
   "execution_count": 26,
   "metadata": {},
   "outputs": [],
   "source": [
    "hashes = []\n",
    "for _ in data:\n",
    "    lsh = fly.FeedForward(_)\n",
    "    hashes.append(lsh)\n",
    "hashes = np.asarray(hashes)"
   ]
  },
  {
   "cell_type": "code",
   "execution_count": 27,
   "metadata": {},
   "outputs": [],
   "source": [
    "# sanity check that hashes are unique, and appear appropriate\n",
    "#np.unique([h.toarray() for h in hashes], axis=1)[:20,:4]    "
   ]
  },
  {
   "cell_type": "markdown",
   "metadata": {},
   "source": [
    "#### check with kmeans (sklearn)\n"
   ]
  },
  {
   "cell_type": "code",
   "execution_count": 28,
   "metadata": {},
   "outputs": [],
   "source": [
    "kmeans = KMeans(n_clusters=3, random_state=42).fit(data)\n",
    "kmeans_lsh = KMeans(n_clusters=3, random_state=42).fit(np.array([h.toarray() for h in hashes])[:,:,0])"
   ]
  },
  {
   "cell_type": "code",
   "execution_count": 29,
   "metadata": {},
   "outputs": [
    {
     "name": "stderr",
     "output_type": "stream",
     "text": [
      "C:\\Users\\bcech\\Anaconda3\\envs\\tf-gpu\\lib\\site-packages\\matplotlib\\figure.py:445: UserWarning: Matplotlib is currently using module://ipykernel.pylab.backend_inline, which is a non-GUI backend, so cannot show the figure.\n",
      "  % get_backend())\n"
     ]
    },
    {
     "data": {
      "image/png": "[encoded data removed]",
      "text/plain": [
       "<Figure size 432x288 with 4 Axes>"
      ]
     },
     "metadata": {
      "needs_background": "light"
     },
     "output_type": "display_data"
    }
   ],
   "source": [
    "# pick two (random) dimensions to plot along\n",
    "dim_1 = 2\n",
    "dim_2 = 3\n",
    "x = data[:,dim_1]\n",
    "y = data[:,dim_2]\n",
    "\n",
    "fig = plt.figure()\n",
    "\n",
    "plt.xlabel('arbitrary dimension %d' % dim_1)\n",
    "plt.ylabel('arbitrary dimension %d' % dim_2)\n",
    "\n",
    "ax = fig.add_subplot(131, frameon=False)\n",
    "scatter = ax.scatter(x,y,c=kmeans.labels_,s=50)\n",
    "for i,j in kmeans.cluster_centers_[:,[dim_1, dim_2]]:\n",
    "    ax.scatter(i,j,s=50,c='red',marker='+')\n",
    "ax.set_title('KMeans Clustering')\n",
    "ax.axis('off')\n",
    "#plt.colorbar(scatter)\n",
    "\n",
    "ax2 = fig.add_subplot(132, frameon=False)\n",
    "scatter2 = ax2.scatter(x,y,c=labels,s=50)\n",
    "ax2.set_title('True labels')\n",
    "ax2.axis('off')\n",
    "\n",
    "ax3 = fig.add_subplot(133, frameon=False)\n",
    "scatter3 = ax3.scatter(x,y,c=kmeans_lsh.labels_,s=50)\n",
    "ax3.set_title('LSH-Kmeans labels')\n",
    "ax3.axis('off')\n",
    "\n",
    "fig.show()"
   ]
  },
  {
   "cell_type": "markdown",
   "metadata": {},
   "source": [
    "## 3. (b) Fly LSH on Facial dataset: Yale http://vision.ucsd.edu/content/yale-face-database"
   ]
  },
  {
   "cell_type": "code",
   "execution_count": 4,
   "metadata": {},
   "outputs": [
    {
     "name": "stderr",
     "output_type": "stream",
     "text": [
      "C:\\Users\\bcech\\Anaconda3\\envs\\tf-gpu\\lib\\site-packages\\skimage\\transform\\_warps.py:105: UserWarning: The default mode, 'constant', will be changed to 'reflect' in skimage 0.15.\n",
      "  warn(\"The default mode, 'constant', will be changed to 'reflect' in \"\n"
     ]
    },
    {
     "data": {
      "image/png": "[encoded data removed]",
      "text/plain": [
       "<Figure size 1080x432 with 10 Axes>"
      ]
     },
     "metadata": {},
     "output_type": "display_data"
    }
   ],
   "source": [
    "faces = [os.path.join(\"data\",\"yalefaces\", img) for img in os.listdir(os.path.join(\"data\",\"yalefaces\")) if img.startswith(\"subject\")]\n",
    "labels = [int(f.split(\"subject\")[-1][:2]) for f in faces]\n",
    "data = np.array([np.flipud(imread(faces[i])) for i in range(len(faces))])\n",
    "\n",
    "# data are (243, 320), which is too large to handle\n",
    "# without convolutions. so a resizing step is done here\n",
    "data = [resize(img, (64, 64), anti_aliasing=True) for img in data]\n",
    "\n",
    "\n",
    "# show some examples\n",
    "fig, axs = plt.subplots(2,5, figsize=(15, 6), facecolor='w', edgecolor='k')\n",
    "fig.subplots_adjust(hspace = .5, wspace=.001)\n",
    "\n",
    "axs = axs.ravel()\n",
    "for i in range(10):\n",
    "\n",
    "    rand = np.random.randint(len(faces), size=1)[0]\n",
    "    axs[i].contourf(data[rand],5,cmap='gray') # upside down for some reason\n",
    "    axs[i].set_title(faces[rand].split(\"subject\")[-1])\n",
    "\n",
    "plt.show()"
   ]
  },
  {
   "cell_type": "code",
   "execution_count": 5,
   "metadata": {
    "scrolled": true
   },
   "outputs": [
    {
     "name": "stdout",
     "output_type": "stream",
     "text": [
      "function:  __init__ benchmark:  33.22396614492754 s\n",
      "Finished face_fly setup\n"
     ]
    }
   ],
   "source": [
    "face_fly = Flylsh(num_orn=data[0].ravel().shape[0], num_pn=data[0].ravel().shape[0], num_kc=data[0].ravel().shape[0]*20)\n",
    "print(\"Finished face_fly setup\")"
   ]
  },
  {
   "cell_type": "code",
   "execution_count": 6,
   "metadata": {},
   "outputs": [
    {
     "name": "stdout",
     "output_type": "stream",
     "text": [
      "finished computing hashlen: 0.001\n",
      "finished computing hashlen: 0.005\n",
      "finished computing hashlen: 0.010\n",
      "finished computing hashlen: 0.025\n",
      "finished computing hashlen: 0.050\n",
      "finished computing hashlen: 0.100\n",
      "finished computing hashlen: 0.200\n"
     ]
    }
   ],
   "source": [
    "hashlens = [0.001, 0.005, 0.01, 0.025, 0.05, 0.1, 0.2]\n",
    "hashes = []\n",
    "i = 0\n",
    "for hashlen in hashlens:\n",
    "    for _ in data:\n",
    "        face_fly.FeedForward(_, hashlen = hashlen)\n",
    "        hashes.append(face_fly.apl)\n",
    "        i += 1\n",
    "    hashes = np.asarray(hashes)\n",
    "    # this can take over 10 seconds per image; be warned! (30 minutes for the 166 images)\n",
    "    # save hashes, because it takes forever\n",
    "    pickle.dump( hashes, open( os.path.join(\"results\", \"face_hashes_hashlen_\" + str(face_fly.hashlen) + \"k.pkl\"), \"wb\" ) )\n",
    "    print(\"finished computing hashlen: %.3f\" % hashlen)\n",
    "    hashes =[]"
   ]
  },
  {
   "cell_type": "markdown",
   "metadata": {},
   "source": [
    "## 3. (c) Comparison to standard K-Nearest-Neighbours"
   ]
  },
  {
   "cell_type": "code",
   "execution_count": 30,
   "metadata": {
    "scrolled": true
   },
   "outputs": [
    {
     "name": "stdout",
     "output_type": "stream",
     "text": [
      "opening file: face_hashes_hashlen_0.001k.pkl\n",
      "lsh correct counts are:  dict_values([23, 26])\n",
      "lsh acc for 0.001 is 49.00\n",
      "----------\n",
      "opening file: face_hashes_hashlen_0.005k.pkl\n",
      "lsh correct counts are:  dict_values([23, 26])\n",
      "lsh acc for 0.005 is 49.00\n",
      "----------\n",
      "opening file: face_hashes_hashlen_0.01k.pkl\n",
      "lsh correct counts are:  dict_values([23, 26])\n",
      "lsh acc for 0.01 is 49.00\n",
      "----------\n",
      "opening file: face_hashes_hashlen_0.025k.pkl\n",
      "lsh correct counts are:  dict_values([23, 26])\n",
      "lsh acc for 0.025 is 49.00\n",
      "----------\n",
      "opening file: face_hashes_hashlen_0.05k.pkl\n",
      "lsh correct counts are:  dict_values([23, 26])\n",
      "lsh acc for 0.05 is 49.00\n",
      "----------\n",
      "opening file: face_hashes_hashlen_0.1k.pkl\n",
      "lsh correct counts are:  dict_values([23, 26])\n",
      "lsh acc for 0.1 is 49.00\n",
      "----------\n",
      "opening file: face_hashes_hashlen_0.2k.pkl\n",
      "lsh correct counts are:  dict_values([23, 26])\n",
      "lsh acc for 0.2 is 49.00\n",
      "----------\n"
     ]
    }
   ],
   "source": [
    "# load all saved hashes, and calculate accuracies\n",
    "hashlens = ['0.001', '0.005', '0.01', '0.025', '0.05', '0.1', '0.2']\n",
    "kmeans_acc = dict.fromkeys(hashlens)    # note that kmeans_acc is constant\n",
    "lsh_acc = dict.fromkeys(hashlens)\n",
    "\n",
    "for hashlen in hashlens:\n",
    "    accuracies = {}\n",
    "    lsh_hashes = []\n",
    "    with open(os.path.join(\"results\", \"face_hashes_hashlen_\" +hashlen + \"k.pkl\"), 'rb') as pickle_file:\n",
    "        lsh_hashes = pickle.load(pickle_file)\n",
    "        print(\"opening file: \" + \"face_hashes_hashlen_\" +hashlen + \"k.pkl\" )\n",
    "        \n",
    "    #print(\"is lsh_hashes unique?: \", np.unique(np.asarray([hash.toarray() for hash in lsh_hashes])[:,:, 0]))\n",
    "    kmeans = KMeans(n_clusters=15, random_state=42).fit(np.asarray([img.ravel() for img in data]))\n",
    "    kmeans_lsh = KMeans(n_clusters=15, random_state=42).fit(np.asarray([hash.toarray() for hash in lsh_hashes])[:,:, 0])\n",
    "    \n",
    "    # determine accuracies of kmeans vs lsh+kmeans\n",
    "    true_counts = np.bincount(labels)[1:,]    # drop the first zero count, we have no subj0\n",
    "    idx = 0\n",
    "    subj = 1\n",
    "    kmeans_correct = {}    # count the consistency of clusters \n",
    "    lsh_correct = {}\n",
    "    for true_count in true_counts:\n",
    "        kmeans_cluster_count = np.bincount(kmeans.labels_[idx:idx+true_count])\n",
    "        lsh_cluster_count = np.bincount(kmeans_lsh.labels_[idx:idx+true_count])\n",
    "\n",
    "        subject = \"subject\" +str(subj)\n",
    "\n",
    "        # for kmeans only\n",
    "        kmeans_argmax = kmeans_cluster_count[kmeans_cluster_count.argmax()]    # is the max number consistent\n",
    "        kmeans_s = np.sum(kmeans_cluster_count)\n",
    "        assert kmeans_s == true_count    # if sum of cluster count isn't true count, we messed up\n",
    "        assert kmeans_s-kmeans_argmax >= 0\n",
    "        kmeans_correct[subject] = kmeans_s-kmeans_argmax\n",
    "\n",
    "        # for lsh+kmeans\n",
    "        lsh_argmax = lsh_cluster_count[lsh_cluster_count.argmax()]    # is the max number consistent\n",
    "        lsh_s = np.sum(lsh_cluster_count)\n",
    "        assert lsh_s == true_count    # if sum of cluster count isn't true count, we messed up\n",
    "        assert lsh_s-lsh_argmax >= 0\n",
    "        lsh_correct[subject] = lsh_s-kmeans_argmax    \n",
    "\n",
    "        subj += 1\n",
    "        idx += true_count \n",
    "        \n",
    "    kmeans_acc[hashlen] = float(sum(kmeans_correct.values())/len(labels) * 100)\n",
    "    lsh_acc[hashlen] = float(sum(lsh_correct.values())/len(labels) * 100)\n",
    "    print(\"lsh correct counts are: \", lsh_correct.values())\n",
    "    print(\"lsh acc for %s is %.2f\" % (hashlen, float(sum(lsh_correct.values())/len(labels) * 100)))\n",
    "    print(\"----------\")"
   ]
  },
  {
   "cell_type": "code",
   "execution_count": 34,
   "metadata": {
    "scrolled": true
   },
   "outputs": [
    {
     "data": {
      "text/plain": [
       "{'0.001': 49.0,\n",
       " '0.005': 49.0,\n",
       " '0.01': 49.0,\n",
       " '0.025': 49.0,\n",
       " '0.05': 49.0,\n",
       " '0.1': 49.0,\n",
       " '0.2': 49.0}"
      ]
     },
     "execution_count": 34,
     "metadata": {},
     "output_type": "execute_result"
    }
   ],
   "source": [
    "lsh_acc"
   ]
  }
 ],
 "metadata": {
  "kernelspec": {
   "display_name": "tf-GPU",
   "language": "python",
   "name": "tf-gpu"
  },
  "language_info": {
   "codemirror_mode": {
    "name": "ipython",
    "version": 3
   },
   "file_extension": ".py",
   "mimetype": "text/x-python",
   "name": "python",
   "nbconvert_exporter": "python",
   "pygments_lexer": "ipython3",
   "version": "3.6.7"
  }
 },
 "nbformat": 4,
 "nbformat_minor": 2
}
