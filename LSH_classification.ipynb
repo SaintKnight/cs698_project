{
 "cells": [
  {
   "cell_type": "markdown",
   "metadata": {},
   "source": [
    "# Extension of Locality Sensitive Hashing to Classification Models\n",
    "\n",
    "Goal: attempt to extend the LSH outputs into a CNN model for image classification. \n",
    "\n",
    "* Deep Neural Networks, including CNNs (Yale Dataset)\n",
    "* Deep Neural Networks, with Low-Rank (MNIST Dataset) and,\n",
    "* Adaptive Dropout (MNIST Dataset)\n",
    "\n",
    "Note: A Tensorflow-GPU kernel was used for this portion, but data are trivial enough that it should not be difficult on a CPU, albeit much slower"
   ]
  },
  {
   "cell_type": "code",
   "execution_count": 133,
   "metadata": {},
   "outputs": [
    {
     "name": "stdout",
     "output_type": "stream",
     "text": [
      "The autoreload extension is already loaded. To reload it, use:\n",
      "  %reload_ext autoreload\n"
     ]
    }
   ],
   "source": [
    "import copy\n",
    "import os\n",
    "import pickle\n",
    "import time\n",
    "\n",
    "import numpy as np\n",
    "\n",
    "import keras\n",
    "from keras.models import Sequential\n",
    "from keras.layers import Dense, Dropout, Flatten, Reshape, Layer\n",
    "from keras.layers import Conv2D, MaxPooling2D\n",
    "from keras import backend as K\n",
    "\n",
    "from skimage.io import imread\n",
    "from skimage.transform import resize\n",
    "from sklearn.neighbors import KNeighborsClassifier\n",
    "\n",
    "from src.Fly import Flylsh as Fly\n",
    "from src import mnist_loader\n",
    "from src.Network import Network\n",
    "from src.utils import benchmark, findSpecificTrainInput, TimeHistory\n",
    "\n",
    "import matplotlib.pyplot as plt\n",
    "%matplotlib inline\n",
    "%load_ext autoreload\n",
    "%autoreload 2"
   ]
  },
  {
   "cell_type": "markdown",
   "metadata": {},
   "source": [
    "## 1. LSH DNN for Yale Dataset"
   ]
  },
  {
   "cell_type": "markdown",
   "metadata": {},
   "source": [
    "### Load LSH (computed in LSH_clustering) and Yale Face data"
   ]
  },
  {
   "cell_type": "code",
   "execution_count": 2,
   "metadata": {},
   "outputs": [
    {
     "name": "stdout",
     "output_type": "stream",
     "text": [
      "(166,)\n",
      "(166, 81920, 1)\n",
      "(166, 81920)\n"
     ]
    }
   ],
   "source": [
    "# read and reshape hashes\n",
    "pickle_in = open(os.path.join(\"results\", \"face_hashes_hashlen_0.05k.pkl\"),\"rb\")\n",
    "hashes = pickle.load(pickle_in)\n",
    "print (hashes.shape)\n",
    "temp = np.array([xx.toarray() for xx in hashes])\n",
    "print (temp.shape)\n",
    "hashes = np.squeeze(temp, axis=(2,))\n",
    "print (hashes.shape)\n",
    "# print (hashes)\n",
    "\n",
    "faces = [os.path.join(\"data\",\"yalefaces\", img) for img in os.listdir(os.path.join(\"data\",\"yalefaces\")) if img.startswith(\"subject\")]\n",
    "labels = [int(f.split(\"subject\")[-1][:2]) for f in faces]\n",
    "data = np.array([np.flipud(imread(faces[i])) for i in range(len(faces))])\n",
    "input_row_data = data    # secondary reference to maintain original data obj\n",
    "input_data = np.array(data)"
   ]
  },
  {
   "cell_type": "markdown",
   "metadata": {},
   "source": [
    "### Pepare labels for clustering\n",
    "These are given by the subject number"
   ]
  },
  {
   "cell_type": "code",
   "execution_count": 3,
   "metadata": {},
   "outputs": [
    {
     "name": "stdout",
     "output_type": "stream",
     "text": [
      "[15, 14, 15, 15, 13, 10, 9, 10, 8, 6, 6, 4, 3, 2, 1]\n",
      "(151, 15)\n",
      "(15, 15)\n"
     ]
    }
   ],
   "source": [
    "num_kind = 15\n",
    "ind = np.array([158, 145, 162, 165, 135, 110, 95, 100, 80, 60, 65, 38, 30, 15, 3])\n",
    "print ([labels[i] for i in ind])\n",
    "\n",
    "labels = np.array(labels)\n",
    "label_out = np.zeros((labels.shape[0], num_kind))\n",
    "for i in range(len(labels)):\n",
    "    label_out[i][labels[i]-1] = 1\n",
    "\n",
    "train_mask = np.ones(np.array(labels).shape, bool)\n",
    "train_mask[ind] = False\n",
    "train_labels = label_out[train_mask]\n",
    "\n",
    "test_mask = np.invert(train_mask)\n",
    "test_labels = label_out[test_mask]\n",
    "\n",
    "print (train_labels.shape)\n",
    "print (test_labels.shape)\n",
    "\n"
   ]
  },
  {
   "cell_type": "markdown",
   "metadata": {},
   "source": [
    "### Prepare raw and processed data, for feeding into NN"
   ]
  },
  {
   "cell_type": "code",
   "execution_count": 4,
   "metadata": {},
   "outputs": [
    {
     "name": "stdout",
     "output_type": "stream",
     "text": [
      "(166, 77760)\n",
      "(151, 77760)\n",
      "(15, 77760)\n"
     ]
    }
   ],
   "source": [
    "# prepare row data\n",
    "row_data = input_row_data.reshape((input_row_data.shape[0], input_row_data.shape[1] * input_row_data.shape[2]))\n",
    "train_row_data = row_data[train_mask]\n",
    "test_row_data = row_data[test_mask]\n",
    "\n",
    "print (row_data.shape)\n",
    "print (train_row_data.shape)\n",
    "print (test_row_data.shape)"
   ]
  },
  {
   "cell_type": "code",
   "execution_count": 5,
   "metadata": {},
   "outputs": [
    {
     "name": "stderr",
     "output_type": "stream",
     "text": [
      "C:\\Users\\bcech\\Anaconda3\\envs\\tf-gpu\\lib\\site-packages\\skimage\\transform\\_warps.py:105: UserWarning: The default mode, 'constant', will be changed to 'reflect' in skimage 0.15.\n",
      "  warn(\"The default mode, 'constant', will be changed to 'reflect' in \"\n"
     ]
    },
    {
     "name": "stdout",
     "output_type": "stream",
     "text": [
      "(166, 4096)\n",
      "(151, 4096)\n",
      "(15, 4096)\n"
     ]
    }
   ],
   "source": [
    "# prepare resized data\n",
    "resize_64 = [resize(img, (64, 64), anti_aliasing=True) for img in data]\n",
    "input_data = np.array(resize_64)\n",
    "resized_data = input_data.reshape((input_data.shape[0], input_data.shape[1] * input_data.shape[2]))\n",
    "train_resized_data = resized_data[train_mask]\n",
    "test_resized_data = resized_data[test_mask]\n",
    "\n",
    "print (resized_data.shape)\n",
    "print (train_resized_data.shape)\n",
    "print (test_resized_data.shape)"
   ]
  },
  {
   "cell_type": "code",
   "execution_count": 6,
   "metadata": {},
   "outputs": [
    {
     "name": "stdout",
     "output_type": "stream",
     "text": [
      "(166, 81920)\n",
      "(151, 81920)\n",
      "(15, 81920)\n"
     ]
    }
   ],
   "source": [
    "# prepare fly data\n",
    "train_hashes = hashes[train_mask]\n",
    "test_hashes = hashes[test_mask]\n",
    "\n",
    "print (hashes.shape)\n",
    "print (train_hashes.shape)\n",
    "print (test_hashes.shape)"
   ]
  },
  {
   "cell_type": "markdown",
   "metadata": {},
   "source": [
    "## Create Keras Deep Network Model for full Images"
   ]
  },
  {
   "cell_type": "code",
   "execution_count": 7,
   "metadata": {},
   "outputs": [],
   "source": [
    "# model for raw input: input_dim=(243, 320)= 77760\n",
    "model = Sequential()\n",
    "model.add(Dense(1280, input_dim=77760, activation='relu'))\n",
    "model.add(Dense(15, activation='softmax'))\n",
    "model.compile(optimizer='rmsprop',\n",
    "              loss='categorical_crossentropy',\n",
    "              metrics=['accuracy'])"
   ]
  },
  {
   "cell_type": "markdown",
   "metadata": {},
   "source": [
    "### And train it"
   ]
  },
  {
   "cell_type": "code",
   "execution_count": 8,
   "metadata": {},
   "outputs": [
    {
     "name": "stdout",
     "output_type": "stream",
     "text": [
      "Epoch 1/15\n",
      "151/151 [==============================] - 5s 33ms/step - loss: 15.0507 - acc: 0.0662\n",
      "Epoch 2/15\n",
      "151/151 [==============================] - 0s 3ms/step - loss: 15.0507 - acc: 0.0662\n",
      "Epoch 3/15\n",
      "151/151 [==============================] - 0s 3ms/step - loss: 15.0507 - acc: 0.0662\n",
      "Epoch 4/15\n",
      "151/151 [==============================] - 0s 3ms/step - loss: 15.0507 - acc: 0.0662\n",
      "Epoch 5/15\n",
      "151/151 [==============================] - 0s 3ms/step - loss: 15.0507 - acc: 0.0662\n",
      "Epoch 6/15\n",
      "151/151 [==============================] - 0s 3ms/step - loss: 15.0507 - acc: 0.0662\n",
      "Epoch 7/15\n",
      "151/151 [==============================] - 0s 3ms/step - loss: 15.0507 - acc: 0.0662\n",
      "Epoch 8/15\n",
      "151/151 [==============================] - 0s 3ms/step - loss: 15.0507 - acc: 0.0662\n",
      "Epoch 9/15\n",
      "151/151 [==============================] - 0s 3ms/step - loss: 15.0507 - acc: 0.0662\n",
      "Epoch 10/15\n",
      "151/151 [==============================] - 0s 3ms/step - loss: 15.0507 - acc: 0.0662\n",
      "Epoch 11/15\n",
      "151/151 [==============================] - 0s 3ms/step - loss: 15.0507 - acc: 0.0662\n",
      "Epoch 12/15\n",
      "151/151 [==============================] - 0s 3ms/step - loss: 15.0507 - acc: 0.0662\n",
      "Epoch 13/15\n",
      "151/151 [==============================] - 0s 3ms/step - loss: 15.0507 - acc: 0.0662\n",
      "Epoch 14/15\n",
      "151/151 [==============================] - 0s 3ms/step - loss: 15.0507 - acc: 0.0662\n",
      "Epoch 15/15\n",
      "151/151 [==============================] - 0s 3ms/step - loss: 15.0507 - acc: 0.0662\n"
     ]
    },
    {
     "data": {
      "text/plain": [
       "<keras.callbacks.History at 0x1ca60bc30f0>"
      ]
     },
     "execution_count": 8,
     "metadata": {},
     "output_type": "execute_result"
    }
   ],
   "source": [
    "model.fit(train_row_data, train_labels, epochs=15)"
   ]
  },
  {
   "cell_type": "markdown",
   "metadata": {},
   "source": [
    "### Model Evaluation"
   ]
  },
  {
   "cell_type": "code",
   "execution_count": 9,
   "metadata": {},
   "outputs": [
    {
     "name": "stdout",
     "output_type": "stream",
     "text": [
      "\r",
      "15/15 [==============================] - 0s 3ms/step\n"
     ]
    },
    {
     "data": {
      "text/plain": [
       "[16.11809539794922, 0.0]"
      ]
     },
     "execution_count": 9,
     "metadata": {},
     "output_type": "execute_result"
    }
   ],
   "source": [
    "model.evaluate(test_row_data, test_labels)"
   ]
  },
  {
   "cell_type": "markdown",
   "metadata": {},
   "source": [
    "### Save history to compare"
   ]
  },
  {
   "cell_type": "code",
   "execution_count": 10,
   "metadata": {},
   "outputs": [],
   "source": [
    "cnn_243_history = model.history.history"
   ]
  },
  {
   "cell_type": "markdown",
   "metadata": {},
   "source": [
    "## Alternative CNN for resized (64x64) images"
   ]
  },
  {
   "cell_type": "code",
   "execution_count": 11,
   "metadata": {},
   "outputs": [],
   "source": [
    "model = Sequential()\n",
    "model.add(Reshape((64, 64, 1), input_shape=(4096,)))\n",
    "model.add(Conv2D(64, (3, 3), activation='relu'))\n",
    "model.add(Conv2D(64, (3, 3), activation='relu'))\n",
    "model.add(MaxPooling2D(pool_size=(2, 2)))\n",
    "model.add(Flatten())\n",
    "model.add(Dense(128, activation='relu'))\n",
    "model.add(Dense(15, activation='softmax'))\n",
    "model.compile(optimizer='rmsprop',\n",
    "              loss='categorical_crossentropy',\n",
    "              metrics=['accuracy'])"
   ]
  },
  {
   "cell_type": "code",
   "execution_count": 12,
   "metadata": {},
   "outputs": [
    {
     "name": "stdout",
     "output_type": "stream",
     "text": [
      "Epoch 1/15\n",
      "151/151 [==============================] - 1s 9ms/step - loss: 5.3905 - acc: 0.0927\n",
      "Epoch 2/15\n",
      "151/151 [==============================] - 0s 779us/step - loss: 2.0029 - acc: 0.3907 0s - loss: 2.1267 - acc: 0.312\n",
      "Epoch 3/15\n",
      "151/151 [==============================] - 0s 779us/step - loss: 1.0105 - acc: 0.7351\n",
      "Epoch 4/15\n",
      "151/151 [==============================] - 0s 773us/step - loss: 0.2882 - acc: 0.9205\n",
      "Epoch 5/15\n",
      "151/151 [==============================] - 0s 766us/step - loss: 0.2017 - acc: 0.9205\n",
      "Epoch 6/15\n",
      "151/151 [==============================] - 0s 780us/step - loss: 0.0829 - acc: 0.9934\n",
      "Epoch 7/15\n",
      "151/151 [==============================] - 0s 773us/step - loss: 0.0158 - acc: 1.0000\n",
      "Epoch 8/15\n",
      "151/151 [==============================] - 0s 773us/step - loss: 0.0052 - acc: 1.0000\n",
      "Epoch 9/15\n",
      "151/151 [==============================] - 0s 780us/step - loss: 0.0033 - acc: 1.0000\n",
      "Epoch 10/15\n",
      "151/151 [==============================] - 0s 780us/step - loss: 0.0022 - acc: 1.0000\n",
      "Epoch 11/15\n",
      "151/151 [==============================] - 0s 779us/step - loss: 0.0016 - acc: 1.0000\n",
      "Epoch 12/15\n",
      "151/151 [==============================] - 0s 812us/step - loss: 0.0011 - acc: 1.0000\n",
      "Epoch 13/15\n",
      "151/151 [==============================] - 0s 826us/step - loss: 8.7700e-04 - acc: 1.0000\n",
      "Epoch 14/15\n",
      "151/151 [==============================] - 0s 839us/step - loss: 6.3425e-04 - acc: 1.0000\n",
      "Epoch 15/15\n",
      "151/151 [==============================] - 0s 800us/step - loss: 4.2631e-04 - acc: 1.0000\n"
     ]
    },
    {
     "data": {
      "text/plain": [
       "<keras.callbacks.History at 0x1ca1f3106a0>"
      ]
     },
     "execution_count": 12,
     "metadata": {},
     "output_type": "execute_result"
    }
   ],
   "source": [
    "model.fit(train_resized_data, train_labels, epochs=15)"
   ]
  },
  {
   "cell_type": "markdown",
   "metadata": {},
   "source": [
    "### Model evaluation"
   ]
  },
  {
   "cell_type": "code",
   "execution_count": 13,
   "metadata": {},
   "outputs": [
    {
     "name": "stdout",
     "output_type": "stream",
     "text": [
      "\r",
      "15/15 [==============================] - 0s 5ms/step\n"
     ]
    },
    {
     "data": {
      "text/plain": [
       "[0.242208793759346, 0.9333333373069763]"
      ]
     },
     "execution_count": 13,
     "metadata": {},
     "output_type": "execute_result"
    }
   ],
   "source": [
    "model.evaluate(test_resized_data, test_labels)"
   ]
  },
  {
   "cell_type": "markdown",
   "metadata": {},
   "source": [
    "### Save history to compare"
   ]
  },
  {
   "cell_type": "code",
   "execution_count": 14,
   "metadata": {},
   "outputs": [],
   "source": [
    "cnn_64_history = model.history.history"
   ]
  },
  {
   "cell_type": "markdown",
   "metadata": {},
   "source": [
    "## Alternative Deep Network for Fly LSH data"
   ]
  },
  {
   "cell_type": "code",
   "execution_count": 79,
   "metadata": {},
   "outputs": [
    {
     "name": "stdout",
     "output_type": "stream",
     "text": [
      "(151, 15)\n"
     ]
    }
   ],
   "source": [
    "print (train_labels.shape)\n",
    "model = Sequential()\n",
    "model.add(Dense(256, activation='relu'))\n",
    "model.add(Dense(15, activation='softmax'))\n",
    "model.compile(optimizer='rmsprop',\n",
    "              loss='categorical_crossentropy',\n",
    "              metrics=['accuracy'])"
   ]
  },
  {
   "cell_type": "code",
   "execution_count": 80,
   "metadata": {},
   "outputs": [
    {
     "name": "stdout",
     "output_type": "stream",
     "text": [
      "Epoch 1/15\n",
      "151/151 [==============================] - 1s 6ms/step - loss: 2.7089 - acc: 0.0861\n",
      "Epoch 2/15\n",
      "151/151 [==============================] - 0s 1ms/step - loss: 2.7045 - acc: 0.1987\n",
      "Epoch 3/15\n",
      "151/151 [==============================] - 0s 1ms/step - loss: 2.6999 - acc: 0.1987\n",
      "Epoch 4/15\n",
      "151/151 [==============================] - 0s 1ms/step - loss: 2.6958 - acc: 0.1921\n",
      "Epoch 5/15\n",
      "151/151 [==============================] - 0s 1ms/step - loss: 2.6906 - acc: 0.2450\n",
      "Epoch 6/15\n",
      "151/151 [==============================] - 0s 1ms/step - loss: 2.6857 - acc: 0.2649\n",
      "Epoch 7/15\n",
      "151/151 [==============================] - 0s 1ms/step - loss: 2.6802 - acc: 0.2715\n",
      "Epoch 8/15\n",
      "151/151 [==============================] - 0s 1ms/step - loss: 2.6746 - acc: 0.2119\n",
      "Epoch 9/15\n",
      "151/151 [==============================] - 0s 1ms/step - loss: 2.6683 - acc: 0.2848\n",
      "Epoch 10/15\n",
      "151/151 [==============================] - 0s 1ms/step - loss: 2.6618 - acc: 0.2914\n",
      "Epoch 11/15\n",
      "151/151 [==============================] - 0s 1ms/step - loss: 2.6542 - acc: 0.3179\n",
      "Epoch 12/15\n",
      "151/151 [==============================] - 0s 1ms/step - loss: 2.6471 - acc: 0.2914\n",
      "Epoch 13/15\n",
      "151/151 [==============================] - 0s 1ms/step - loss: 2.6387 - acc: 0.2781\n",
      "Epoch 14/15\n",
      "151/151 [==============================] - 0s 1ms/step - loss: 2.6310 - acc: 0.2848\n",
      "Epoch 15/15\n",
      "151/151 [==============================] - 0s 1ms/step - loss: 2.6221 - acc: 0.3046\n"
     ]
    },
    {
     "data": {
      "text/plain": [
       "<keras.callbacks.History at 0x1cb7ddf00f0>"
      ]
     },
     "execution_count": 80,
     "metadata": {},
     "output_type": "execute_result"
    }
   ],
   "source": [
    "model.fit(train_hashes, train_labels, epochs=15, shuffle=True)"
   ]
  },
  {
   "cell_type": "markdown",
   "metadata": {},
   "source": [
    "### Fly LSH + CNN Model evaluation"
   ]
  },
  {
   "cell_type": "code",
   "execution_count": 17,
   "metadata": {},
   "outputs": [
    {
     "name": "stdout",
     "output_type": "stream",
     "text": [
      "\r",
      "15/15 [==============================] - 0s 4ms/step\n"
     ]
    },
    {
     "data": {
      "text/plain": [
       "[2.6520156860351562, 0.20000000298023224]"
      ]
     },
     "execution_count": 17,
     "metadata": {},
     "output_type": "execute_result"
    }
   ],
   "source": [
    "model.evaluate(test_hashes, test_labels)"
   ]
  },
  {
   "cell_type": "markdown",
   "metadata": {},
   "source": [
    "### Save history to compare"
   ]
  },
  {
   "cell_type": "code",
   "execution_count": 18,
   "metadata": {},
   "outputs": [],
   "source": [
    "cnn_lsh_history = model.history.history"
   ]
  },
  {
   "cell_type": "markdown",
   "metadata": {},
   "source": [
    "## Compare 'vanilla' DNN vs. CNN vs DNN with LSH as input"
   ]
  },
  {
   "cell_type": "code",
   "execution_count": 61,
   "metadata": {},
   "outputs": [],
   "source": [
    "# plot each of the models' losses and accuracy over training epochs\n",
    "epochs = range(1,16)\n",
    "\n",
    "# cnn_243\n",
    "y_loss_243 = cnn_243_history['loss']\n",
    "y_acc_243 = cnn_243_history['acc']\n",
    "\n",
    "# cnn_64\n",
    "y_loss_64 = cnn_64_history['loss']\n",
    "y_acc_64 = cnn_64_history['acc']\n",
    "\n",
    "# cnn_lsh\n",
    "y_loss_lsh = cnn_lsh_history['loss']\n",
    "y_acc_lsh = cnn_lsh_history['acc']\n",
    "\n",
    "# fig, ax1 = plt.subplots(figsize=(8,5))\n",
    "\n",
    "# ax1.set_ylabel('Loss', color='black')\n",
    "# #ax1.plot(t, dataL, color=color)\n",
    "# ax1.plot(epochs, y_loss_243, marker='x', markerfacecolor='blue', markersize=8, color='skyblue', linewidth=2)\n",
    "# ax1.plot(epochs, y_loss_64, marker='1', markerfacecolor='red', markersize=8, color='red', linewidth=2)\n",
    "# ax1.plot(epochs, y_loss_lsh, marker='.', markerfacecolor='black', markersize=8, color='black', linewidth=2)\n",
    "\n",
    "# ax1.tick_params(axis='y', labelcolor='black')\n",
    "\n",
    "# ax2 = ax1.twinx()  # instantiate a second axes that shares the same x-axis\n",
    "\n",
    "# ax2.set_ylabel('Accuracy', color='black')  # we already handled the x-label with ax1\n",
    "# ax2.plot(epochs, y_acc_243, marker='x', color='blue', linewidth=2)\n",
    "# ax2.plot(epochs, y_acc_64, marker='1', color='magenta', linewidth=2)\n",
    "# ax2.plot(epochs, y_acc_lsh, marker='.', color='grey', linewidth=2)\n",
    "# ax2.tick_params(axis='y', labelcolor='black')\n",
    "\n",
    "# fig.legend(('243_loss', '64_loss', 'lsh_loss', '243_acc', '64_acc', 'lsh_acc'), loc='center')\n",
    "# plt.title(\"Accuracy and Loss over 15 epochs of CNN training\")\n",
    "# plt.show();"
   ]
  },
  {
   "cell_type": "code",
   "execution_count": 81,
   "metadata": {},
   "outputs": [
    {
     "data": {
      "image/png": "[encoded data removed]",
      "text/plain": [
       "<Figure size 576x360 with 1 Axes>"
      ]
     },
     "metadata": {
      "needs_background": "light"
     },
     "output_type": "display_data"
    }
   ],
   "source": [
    "fig, ax1 = plt.subplots(figsize=(8,5))\n",
    "\n",
    "ax1.plot(epochs, y_loss_243, marker='x', markerfacecolor='blue', markersize=8, color='skyblue', linewidth=2)\n",
    "ax1.plot(epochs, y_loss_64, marker='1', markerfacecolor='red', markersize=8, color='red', linewidth=2)\n",
    "ax1.plot(epochs, y_loss_lsh, marker='.', markerfacecolor='black', markersize=8, color='black', linewidth=2)\n",
    "\n",
    "fig.legend(('243_loss', '64_loss', 'lsh_loss'), loc='center')\n",
    "plt.title(\"DNN training loss over 15 epochs\")\n",
    "ax1.set_ylabel('Loss', color='black')\n",
    "ax1.set_xlabel('Epoch', color='black')\n",
    "\n",
    "plt.show();"
   ]
  },
  {
   "cell_type": "code",
   "execution_count": 82,
   "metadata": {},
   "outputs": [
    {
     "data": {
      "image/png": "[encoded data removed]",
      "text/plain": [
       "<Figure size 576x360 with 1 Axes>"
      ]
     },
     "metadata": {
      "needs_background": "light"
     },
     "output_type": "display_data"
    }
   ],
   "source": [
    "fig, ax2 = plt.subplots(figsize=(8,5))\n",
    "\n",
    "ax2.plot(epochs, y_acc_243, marker='x', color='blue', linewidth=2)\n",
    "ax2.plot(epochs, y_acc_64, marker='1', color='magenta', linewidth=2)\n",
    "ax2.plot(epochs, y_acc_lsh, marker='.', color='grey', linewidth=2)\n",
    "\n",
    "fig.legend(('243_acc', '64_acc', 'lsh_acc'), loc='center')\n",
    "plt.title(\"DNN training accuracy over 15 epochs\")\n",
    "ax2.set_ylabel('Accuracy', color='black')\n",
    "ax2.set_xlabel('Epoch', color='black')\n",
    "ax2.tick_params(axis='y', labelcolor='black')\n",
    "\n",
    "plt.show();"
   ]
  },
  {
   "cell_type": "markdown",
   "metadata": {},
   "source": [
    "# 2. Adaptive Dropout and Low-Rank Networks on MNIST data"
   ]
  },
  {
   "cell_type": "markdown",
   "metadata": {},
   "source": [
    "## Modified fly network\n",
    "We make an _ad hoc_ modified fly network, allowing for convolution and x-fold dimensionality increase"
   ]
  },
  {
   "cell_type": "code",
   "execution_count": 106,
   "metadata": {},
   "outputs": [],
   "source": [
    "def orn_to_pn(orn):\n",
    "    orn_mean = np.mean(orn, axis=1)\n",
    "    pn = np.array([orn[i]-orn_mean[i] for i in range(len(orn_mean))])\n",
    "    return pn\n",
    "\n",
    "\n",
    "def mat_generate(pn_dim, kc_dim, con):\n",
    "    mat = np.zeros((pn_dim,kc_dim))\n",
    "    for i in range(kc_dim):\n",
    "        one_ind = np.random.choice(pn_dim, con, replace=False)\n",
    "        for j in range(con):\n",
    "            mat[one_ind[j]][i] = 1\n",
    "    return mat\n",
    "    \n",
    "def pn_to_kc(pn, fold, con, mat): # 40-fold expansion\n",
    "    sample = np.shape(pn)[0]\n",
    "    pn_dim = np.shape(pn)[1]\n",
    "    kc_dim = pn_dim * fold\n",
    "    \n",
    "    #print(mat)\n",
    "    kc = np.dot(pn, mat)\n",
    "    return kc\n",
    "\n",
    "def wta(kc, top_percent):\n",
    "    kc_dim = np.shape(kc)[1]\n",
    "    final = np.zeros(np.shape(kc))\n",
    "    k = int(kc_dim * top_percent) # k >= 1 && k < len\n",
    "#     print (k)\n",
    "    for i in range(len(kc)):\n",
    "        sample = kc[i]\n",
    "        ind = np.argpartition(sample, -k)[-k:][0]\n",
    "        pivot = sample[ind]\n",
    "        for j in range(kc_dim):\n",
    "            final[i][j] = 0 if kc[i][j] < pivot else kc[i][j]\n",
    "    return final\n",
    "\n",
    "def fly(input_data, fold, con, top_percent, mat):\n",
    "    pn = orn_to_pn(input_data)\n",
    "    kc = pn_to_kc(pn, fold, con, mat)\n",
    "    r = wta(kc, 0.05)\n",
    "    return r"
   ]
  },
  {
   "cell_type": "markdown",
   "metadata": {},
   "source": [
    "### Read MNIST samples\n",
    "And downsoze to 5 or 10k training inputs"
   ]
  },
  {
   "cell_type": "code",
   "execution_count": 102,
   "metadata": {},
   "outputs": [],
   "source": [
    "# Read MNIST samples\n",
    "train, validate, test = mnist_loader.load_data_wrapper()\n",
    "sizeTrain = 5000 # max 60000\n",
    "sizeTest = 1000 # max 10000\n",
    "np_train_data = np.array(train[0][:sizeTrain])\n",
    "np_train_label = np.array(train[1][:sizeTrain])\n",
    "np_test_data = np.array(test[0][:sizeTest])\n",
    "np_test_label = np.array(test[1][:sizeTest])"
   ]
  },
  {
   "cell_type": "code",
   "execution_count": 103,
   "metadata": {},
   "outputs": [
    {
     "data": {
      "image/png": "[encoded data removed]",
      "text/plain": [
       "<Figure size 1080x288 with 20 Axes>"
      ]
     },
     "metadata": {
      "needs_background": "light"
     },
     "output_type": "display_data"
    }
   ],
   "source": [
    "# Display some sample digit images\n",
    "plt.figure(figsize=[15,4])\n",
    "n_digits = 20\n",
    "for n in range(n_digits):\n",
    "    idx = np.random.randint(10000)\n",
    "    plt.subplot(3,10,n+1)\n",
    "    plt.imshow(np.reshape(test[0][idx], [28,28]), cmap='gray'); plt.axis('off');"
   ]
  },
  {
   "cell_type": "markdown",
   "metadata": {},
   "source": [
    "### KNN wrapper for sklearnknn"
   ]
  },
  {
   "cell_type": "code",
   "execution_count": 104,
   "metadata": {},
   "outputs": [],
   "source": [
    "# KNN directly\n",
    "# k takes from startRange to startRange+numOfRange\n",
    "def sklearnKnn(data, test, startRange, numOfRange=1):\n",
    "    # effective length for knn training and testing\n",
    "    input_len = 5000\n",
    "    test_len = 1000\n",
    "    kAcc = np.zeros((startRange+numOfRange))\n",
    "    train_in = np.array(data[0][:input_len])\n",
    "    label_in = np.array(data[1][:input_len])\n",
    "    train_test = np.array(test[0][:test_len])\n",
    "    label_test = np.array(test[1][:test_len])\n",
    "    print(np.shape(train_in))\n",
    "    print(np.shape(label_in))\n",
    "    print(np.shape(train_test))\n",
    "    print(np.shape(label_test))\n",
    "    for k in range(startRange, startRange+numOfRange):\n",
    "        print ('process K: ', k)\n",
    "        neigh = KNeighborsClassifier(n_neighbors=k, n_jobs=2)\n",
    "        neigh.fit(train_in, label_in)\n",
    "        print ('finish fit K: ', k)\n",
    "        kAcc[k] = neigh.score(train_test,label_test)\n",
    "    plt.plot(range(1,startRange+numOfRange),kAcc[1:],'o-')\n",
    "    plt.ylabel('accuracy')\n",
    "    plt.xlabel('K')\n",
    "    #plt.yticks(np.arange(0.72, 0.83, 0.01))\n",
    "    plt.show()    \n",
    "    return kAcc"
   ]
  },
  {
   "cell_type": "markdown",
   "metadata": {},
   "source": [
    "### Simple KNN result on MNIST data"
   ]
  },
  {
   "cell_type": "code",
   "execution_count": 105,
   "metadata": {},
   "outputs": [
    {
     "name": "stdout",
     "output_type": "stream",
     "text": [
      "(5000, 784)\n",
      "(5000, 10)\n",
      "(1000, 784)\n",
      "(1000, 10)\n",
      "process K:  1\n",
      "finish fit K:  1\n",
      "process K:  2\n",
      "finish fit K:  2\n",
      "process K:  3\n",
      "finish fit K:  3\n",
      "process K:  4\n",
      "finish fit K:  4\n",
      "process K:  5\n",
      "finish fit K:  5\n",
      "process K:  6\n",
      "finish fit K:  6\n",
      "process K:  7\n",
      "finish fit K:  7\n",
      "process K:  8\n",
      "finish fit K:  8\n",
      "process K:  9\n",
      "finish fit K:  9\n",
      "process K:  10\n",
      "finish fit K:  10\n"
     ]
    },
    {
     "data": {
      "image/png": "[encoded data removed]",
      "text/plain": [
       "<Figure size 432x288 with 1 Axes>"
      ]
     },
     "metadata": {
      "needs_background": "light"
     },
     "output_type": "display_data"
    },
    {
     "name": "stdout",
     "output_type": "stream",
     "text": [
      "[0.    0.902 0.848 0.906 0.869 0.899 0.875 0.895 0.866 0.887 0.866]\n"
     ]
    }
   ],
   "source": [
    "result = sklearnKnn(train, test, 1, 10)\n",
    "# result = knn(dist)\n",
    "print (result)"
   ]
  },
  {
   "cell_type": "markdown",
   "metadata": {},
   "source": [
    "## Run Fly Hashes\n",
    "Through the modified fly network functions above"
   ]
  },
  {
   "cell_type": "code",
   "execution_count": 107,
   "metadata": {},
   "outputs": [
    {
     "name": "stdout",
     "output_type": "stream",
     "text": [
      "(5000, 31360)\n",
      "(5000, 31360)\n",
      "(1000, 31360)\n"
     ]
    }
   ],
   "source": [
    "# fold 40 con 6\n",
    "\n",
    "fold = 40\n",
    "con = 6\n",
    "top_percent = 0.05\n",
    "\n",
    "flyTrain_40_6 = np.zeros((np_train_data.shape[0], np_train_data.shape[1] * fold))\n",
    "\n",
    "print (flyTrain_40_6.shape)\n",
    "mat_40_6 = mat_generate(np_train_data.shape[1], np_train_data.shape[1]*fold, con)\n",
    "\n",
    "# fly train data \n",
    "flyTrain_40_6 = fly(np_train_data, fold, con, top_percent, mat_40_6)\n",
    "\n",
    "# fly test data\n",
    "flyTest_40_6 = fly(np_test_data, fold, con, top_percent, mat_40_6)\n",
    "print (np.shape(flyTrain_40_6))\n",
    "print (np.shape(flyTest_40_6))"
   ]
  },
  {
   "cell_type": "code",
   "execution_count": 108,
   "metadata": {},
   "outputs": [
    {
     "name": "stdout",
     "output_type": "stream",
     "text": [
      "(5000, 31360)\n",
      "(5000, 31360)\n",
      "(1000, 31360)\n"
     ]
    }
   ],
   "source": [
    "# fold 40 con 90\n",
    "\n",
    "fold = 40\n",
    "con = 90 # similar percentage of 6/50\n",
    "top_percent = 0.05\n",
    "\n",
    "flyTrain_40_90 = np.zeros((np_train_data.shape[0], np_train_data.shape[1] * fold))\n",
    "\n",
    "print (flyTrain_40_90.shape)\n",
    "mat_40_90 = mat_generate(np_train_data.shape[1], np_train_data.shape[1]*fold, con)\n",
    "\n",
    "# fly train data \n",
    "flyTrain_40_90 = fly(np_train_data, fold, con, top_percent, mat_40_90)\n",
    "\n",
    "# fly test data\n",
    "flyTest_40_90 = fly(np_test_data, fold, con, top_percent, mat_40_90)\n",
    "print (np.shape(flyTrain_40_90))\n",
    "print (np.shape(flyTest_40_90))"
   ]
  },
  {
   "cell_type": "code",
   "execution_count": 110,
   "metadata": {},
   "outputs": [
    {
     "name": "stdout",
     "output_type": "stream",
     "text": [
      "(5000, 7840)\n",
      "(5000, 7840)\n",
      "(1000, 7840)\n"
     ]
    }
   ],
   "source": [
    "# fold 10 con 90\n",
    "\n",
    "fold = 10\n",
    "con = 90 # similar percentage of 6/50\n",
    "top_percent = 0.05\n",
    "\n",
    "flyTrain_10_90 = np.zeros((np_train_data.shape[0], np_train_data.shape[1] * fold))\n",
    "\n",
    "print (flyTrain_10_90.shape)\n",
    "mat_10_90 = mat_generate(np_train_data.shape[1], np_train_data.shape[1]*fold, con)\n",
    "\n",
    "# fly train data \n",
    "flyTrain_10_90 = fly(np_train_data, fold, con, top_percent, mat_10_90)\n",
    "\n",
    "# fly test data\n",
    "flyTest_10_90 = fly(np_test_data, fold, con, top_percent, mat_10_90)\n",
    "print (np.shape(flyTrain_10_90))\n",
    "print (np.shape(flyTest_10_90))"
   ]
  },
  {
   "cell_type": "markdown",
   "metadata": {},
   "source": [
    "### Compare to LSH+KNN"
   ]
  },
  {
   "cell_type": "code",
   "execution_count": 112,
   "metadata": {},
   "outputs": [
    {
     "name": "stdout",
     "output_type": "stream",
     "text": [
      "(5000, 31360)\n",
      "(5000, 10)\n",
      "(1000, 31360)\n",
      "(1000, 10)\n",
      "process K:  1\n",
      "finish fit K:  1\n"
     ]
    },
    {
     "data": {
      "image/png": "[encoded data removed]",
      "text/plain": [
       "<Figure size 432x288 with 1 Axes>"
      ]
     },
     "metadata": {
      "needs_background": "light"
     },
     "output_type": "display_data"
    },
    {
     "name": "stdout",
     "output_type": "stream",
     "text": [
      "[0.    0.875]\n"
     ]
    }
   ],
   "source": [
    "# knn for fly 40 6\n",
    "result = sklearnKnn([flyTrain_40_6,train[1]], [flyTest_40_6,test[1]], 1)\n",
    "# result = knn(dist)\n",
    "print (result)"
   ]
  },
  {
   "cell_type": "code",
   "execution_count": 115,
   "metadata": {},
   "outputs": [
    {
     "name": "stdout",
     "output_type": "stream",
     "text": [
      "(5000, 31360)\n",
      "(5000, 10)\n",
      "(1000, 31360)\n",
      "(1000, 10)\n",
      "process K:  1\n",
      "finish fit K:  1\n"
     ]
    },
    {
     "data": {
      "image/png": "[encoded data removed]",
      "text/plain": [
       "<Figure size 432x288 with 1 Axes>"
      ]
     },
     "metadata": {
      "needs_background": "light"
     },
     "output_type": "display_data"
    },
    {
     "name": "stdout",
     "output_type": "stream",
     "text": [
      "[0.    0.875]\n"
     ]
    }
   ],
   "source": [
    "# knn for fly 40 6\n",
    "result = sklearnKnn([flyTrain_40_6,train[1]], [flyTest_40_6,test[1]], 1)\n",
    "# result = knn(dist)\n",
    "print (result)"
   ]
  },
  {
   "cell_type": "code",
   "execution_count": 116,
   "metadata": {},
   "outputs": [
    {
     "name": "stdout",
     "output_type": "stream",
     "text": [
      "(5000, 31360)\n",
      "(5000, 10)\n",
      "(1000, 31360)\n",
      "(1000, 10)\n",
      "process K:  1\n",
      "finish fit K:  1\n"
     ]
    },
    {
     "data": {
      "image/png": "[encoded data removed]",
      "text/plain": [
       "<Figure size 432x288 with 1 Axes>"
      ]
     },
     "metadata": {
      "needs_background": "light"
     },
     "output_type": "display_data"
    },
    {
     "name": "stdout",
     "output_type": "stream",
     "text": [
      "[0.    0.853]\n"
     ]
    }
   ],
   "source": [
    "# knn for fly 40 90\n",
    "result = sklearnKnn([flyTrain_40_90,train[1]], [flyTest_40_90,test[1]], 1)\n",
    "# result = knn(dist)\n",
    "print (result)"
   ]
  },
  {
   "cell_type": "code",
   "execution_count": 117,
   "metadata": {},
   "outputs": [
    {
     "name": "stdout",
     "output_type": "stream",
     "text": [
      "(5000, 7840)\n",
      "(5000, 10)\n",
      "(1000, 7840)\n",
      "(1000, 10)\n",
      "process K:  1\n",
      "finish fit K:  1\n"
     ]
    },
    {
     "data": {
      "image/png": "[encoded data removed]",
      "text/plain": [
       "<Figure size 432x288 with 1 Axes>"
      ]
     },
     "metadata": {
      "needs_background": "light"
     },
     "output_type": "display_data"
    },
    {
     "name": "stdout",
     "output_type": "stream",
     "text": [
      "[0.    0.848]\n"
     ]
    }
   ],
   "source": [
    "# knn for fly 10 90\n",
    "result = sklearnKnn([flyTrain_10_90,train[1]], [flyTest_10_90,test[1]], 1)\n",
    "print (result)"
   ]
  },
  {
   "cell_type": "markdown",
   "metadata": {},
   "source": [
    "#### Find Specific inputs 2 and 3s..."
   ]
  },
  {
   "cell_type": "code",
   "execution_count": 118,
   "metadata": {},
   "outputs": [
    {
     "name": "stdout",
     "output_type": "stream",
     "text": [
      "total processed:  102\n"
     ]
    },
    {
     "data": {
      "image/png": "[encoded data removed]",
      "text/plain": [
       "<Figure size 1080x720 with 32 Axes>"
      ]
     },
     "metadata": {
      "needs_background": "light"
     },
     "output_type": "display_data"
    }
   ],
   "source": [
    "# find 2 and 3 images only\n",
    "a = findSpecificTrainInput(train, [2,3], maxIndex = 500)\n",
    "plt.figure(figsize=[15,10])\n",
    "for n in range(32):\n",
    "    idx = n\n",
    "    plt.subplot(4,8,n+1)\n",
    "    plt.imshow(np.reshape(a[0][idx], [28,28]), cmap='gray'); plt.axis('off');"
   ]
  },
  {
   "cell_type": "markdown",
   "metadata": {},
   "source": [
    "## 3. DNN on Fly data"
   ]
  },
  {
   "cell_type": "markdown",
   "metadata": {},
   "source": [
    "### DNN Model on raw data"
   ]
  },
  {
   "cell_type": "code",
   "execution_count": 122,
   "metadata": {},
   "outputs": [
    {
     "name": "stdout",
     "output_type": "stream",
     "text": [
      "Epoch 1/10\n",
      "5000/5000 [==============================] - 10s 2ms/step - loss: 0.8693 - acc: 0.7768\n",
      "Epoch 2/10\n",
      "5000/5000 [==============================] - 0s 94us/step - loss: 0.3732 - acc: 0.9040\n",
      "Epoch 3/10\n",
      "5000/5000 [==============================] - 1s 101us/step - loss: 0.2926 - acc: 0.9236\n",
      "Epoch 4/10\n",
      "5000/5000 [==============================] - 0s 93us/step - loss: 0.2500 - acc: 0.9324\n",
      "Epoch 5/10\n",
      "5000/5000 [==============================] - 0s 85us/step - loss: 0.2216 - acc: 0.9422\n",
      "Epoch 6/10\n",
      "5000/5000 [==============================] - 0s 96us/step - loss: 0.2002 - acc: 0.9436\n",
      "Epoch 7/10\n",
      "5000/5000 [==============================] - 0s 85us/step - loss: 0.1811 - acc: 0.9508\n",
      "Epoch 8/10\n",
      "5000/5000 [==============================] - 0s 82us/step - loss: 0.1656 - acc: 0.9530\n",
      "Epoch 9/10\n",
      "5000/5000 [==============================] - 0s 83us/step - loss: 0.1529 - acc: 0.9608\n",
      "Epoch 10/10\n",
      "5000/5000 [==============================] - 0s 87us/step - loss: 0.1403 - acc: 0.9618\n",
      "13.699920177459717\n"
     ]
    }
   ],
   "source": [
    "#model for raw input\n",
    "model = Sequential()\n",
    "model.add(Dense(32, input_dim=784, activation='relu'))\n",
    "model.add(Dense(10, activation='softmax'))\n",
    "model.compile(optimizer='rmsprop',\n",
    "              loss='categorical_crossentropy',\n",
    "              metrics=['accuracy'])\n",
    "time_callback = TimeHistory()\n",
    "model.fit(np_train_data, np_train_label, epochs=10, callbacks=[time_callback])\n",
    "times = time_callback.times\n",
    "print (np.sum(times))"
   ]
  },
  {
   "cell_type": "markdown",
   "metadata": {},
   "source": [
    "#### And evaluate"
   ]
  },
  {
   "cell_type": "code",
   "execution_count": 123,
   "metadata": {},
   "outputs": [
    {
     "name": "stdout",
     "output_type": "stream",
     "text": [
      "1000/1000 [==============================] - 0s 383us/step\n"
     ]
    },
    {
     "data": {
      "text/plain": [
       "[0.29518474864959715, 0.902]"
      ]
     },
     "execution_count": 123,
     "metadata": {},
     "output_type": "execute_result"
    }
   ],
   "source": [
    "model.evaluate(np_test_data, np_test_label)"
   ]
  },
  {
   "cell_type": "markdown",
   "metadata": {},
   "source": [
    "### CNN Model on raw data"
   ]
  },
  {
   "cell_type": "code",
   "execution_count": 124,
   "metadata": {},
   "outputs": [
    {
     "name": "stdout",
     "output_type": "stream",
     "text": [
      "Epoch 1/10\n",
      "5000/5000 [==============================] - 1s 256us/step - loss: 0.5239 - acc: 0.8448\n",
      "Epoch 2/10\n",
      "5000/5000 [==============================] - 1s 143us/step - loss: 0.1970 - acc: 0.9418\n",
      "Epoch 3/10\n",
      "5000/5000 [==============================] - 1s 145us/step - loss: 0.1163 - acc: 0.9660\n",
      "Epoch 4/10\n",
      "5000/5000 [==============================] - 1s 143us/step - loss: 0.0706 - acc: 0.9808\n",
      "Epoch 5/10\n",
      "5000/5000 [==============================] - 1s 142us/step - loss: 0.0443 - acc: 0.9878\n",
      "Epoch 6/10\n",
      "5000/5000 [==============================] - 1s 144us/step - loss: 0.0282 - acc: 0.9936\n",
      "Epoch 7/10\n",
      "5000/5000 [==============================] - 1s 142us/step - loss: 0.0174 - acc: 0.9948\n",
      "Epoch 8/10\n",
      "5000/5000 [==============================] - 1s 142us/step - loss: 0.0112 - acc: 0.9974\n",
      "Epoch 9/10\n",
      "5000/5000 [==============================] - 1s 142us/step - loss: 0.0057 - acc: 0.9988\n",
      "Epoch 10/10\n",
      "5000/5000 [==============================] - 1s 142us/step - loss: 0.0042 - acc: 0.9986\n",
      "7.707045793533325\n"
     ]
    }
   ],
   "source": [
    "#CNN for raw input\n",
    "model = Sequential()\n",
    "model.add(Reshape((28, 28, 1), input_shape=(784,)))\n",
    "model.add(Conv2D(32, (3, 3), activation='relu'))\n",
    "model.add(MaxPooling2D(pool_size=(2, 2)))\n",
    "model.add(Flatten())\n",
    "model.add(Dense(128, activation='relu'))\n",
    "model.add(Dense(10, activation='softmax'))\n",
    "model.compile(optimizer='rmsprop',\n",
    "              loss='categorical_crossentropy',\n",
    "              metrics=['accuracy'])\n",
    "time_callback = TimeHistory()\n",
    "model.fit(np_train_data, np_train_label, epochs=10, callbacks=[time_callback])\n",
    "times = time_callback.times\n",
    "print (np.sum(times))"
   ]
  },
  {
   "cell_type": "markdown",
   "metadata": {},
   "source": [
    "#### And evaluate"
   ]
  },
  {
   "cell_type": "code",
   "execution_count": 125,
   "metadata": {},
   "outputs": [
    {
     "name": "stdout",
     "output_type": "stream",
     "text": [
      "1000/1000 [==============================] - 0s 145us/step\n"
     ]
    },
    {
     "data": {
      "text/plain": [
       "[0.17400183998793364, 0.959]"
      ]
     },
     "execution_count": 125,
     "metadata": {},
     "output_type": "execute_result"
    }
   ],
   "source": [
    "model.evaluate(np_test_data, np_test_label)"
   ]
  },
  {
   "cell_type": "markdown",
   "metadata": {},
   "source": [
    "## Low-Rank DNNs"
   ]
  },
  {
   "cell_type": "markdown",
   "metadata": {},
   "source": [
    "### Model for fly hashed with 40-fold expansion and conv=6"
   ]
  },
  {
   "cell_type": "code",
   "execution_count": 126,
   "metadata": {},
   "outputs": [
    {
     "name": "stdout",
     "output_type": "stream",
     "text": [
      "Epoch 1/10\n",
      "5000/5000 [==============================] - 2s 445us/step - loss: 0.4605 - acc: 0.8722\n",
      "Epoch 2/10\n",
      "5000/5000 [==============================] - 2s 356us/step - loss: 0.0804 - acc: 0.9742\n",
      "Epoch 3/10\n",
      "5000/5000 [==============================] - 2s 340us/step - loss: 0.0270 - acc: 0.9920\n",
      "Epoch 4/10\n",
      "5000/5000 [==============================] - 2s 335us/step - loss: 0.0098 - acc: 0.9974\n",
      "Epoch 5/10\n",
      "5000/5000 [==============================] - 2s 329us/step - loss: 0.0022 - acc: 0.9996\n",
      "Epoch 6/10\n",
      "5000/5000 [==============================] - 2s 330us/step - loss: 0.0022 - acc: 0.9994\n",
      "Epoch 7/10\n",
      "5000/5000 [==============================] - 2s 334us/step - loss: 0.0010 - acc: 0.9998\n",
      "Epoch 8/10\n",
      "5000/5000 [==============================] - 2s 350us/step - loss: 2.1256e-04 - acc: 0.9998\n",
      "Epoch 9/10\n",
      "5000/5000 [==============================] - 2s 342us/step - loss: 4.0109e-06 - acc: 1.0000\n",
      "Epoch 10/10\n",
      "5000/5000 [==============================] - 2s 356us/step - loss: 3.1958e-06 - acc: 1.0000\n",
      "17.584940910339355\n"
     ]
    }
   ],
   "source": [
    "#model for fly hashed input 40 6\n",
    "model = Sequential()\n",
    "model.add(Dense(32, input_dim=31360, activation='relu'))\n",
    "model.add(Dense(10, activation='softmax'))\n",
    "model.compile(optimizer='rmsprop',\n",
    "              loss='categorical_crossentropy',\n",
    "              metrics=['accuracy'])\n",
    "time_callback = TimeHistory()\n",
    "model.fit(flyTrain_40_6, np_train_label, epochs=10, shuffle=True, callbacks=[time_callback])\n",
    "times = time_callback.times\n",
    "print (np.sum(times))"
   ]
  },
  {
   "cell_type": "markdown",
   "metadata": {},
   "source": [
    "#### And evaluate"
   ]
  },
  {
   "cell_type": "code",
   "execution_count": 127,
   "metadata": {},
   "outputs": [
    {
     "name": "stdout",
     "output_type": "stream",
     "text": [
      "1000/1000 [==============================] - 0s 368us/step\n"
     ]
    },
    {
     "data": {
      "text/plain": [
       "[0.4105046369861811, 0.935]"
      ]
     },
     "execution_count": 127,
     "metadata": {},
     "output_type": "execute_result"
    }
   ],
   "source": [
    "model.evaluate(flyTest_40_6, np_test_label)"
   ]
  },
  {
   "cell_type": "markdown",
   "metadata": {},
   "source": [
    "### Model for fly hashed with 40-fold expansion, conv=6, _and_ additonal hidden layers\n",
    "That is, add in hidden low-rank layers to (hopefully) simplify weights"
   ]
  },
  {
   "cell_type": "code",
   "execution_count": 128,
   "metadata": {},
   "outputs": [
    {
     "name": "stdout",
     "output_type": "stream",
     "text": [
      "Epoch 1/10\n",
      "5000/5000 [==============================] - 2s 461us/step - loss: 0.4569 - acc: 0.8726 0s - loss: 0.4643 - acc: 0.87\n",
      "Epoch 2/10\n",
      "5000/5000 [==============================] - 2s 362us/step - loss: 0.0927 - acc: 0.9748\n",
      "Epoch 3/10\n",
      "5000/5000 [==============================] - 2s 367us/step - loss: 0.0278 - acc: 0.9910\n",
      "Epoch 4/10\n",
      "5000/5000 [==============================] - 2s 376us/step - loss: 0.0136 - acc: 0.9960\n",
      "Epoch 5/10\n",
      "5000/5000 [==============================] - 2s 365us/step - loss: 0.0023 - acc: 0.9992\n",
      "Epoch 6/10\n",
      "5000/5000 [==============================] - 2s 376us/step - loss: 0.0039 - acc: 0.9982\n",
      "Epoch 7/10\n",
      "5000/5000 [==============================] - 2s 364us/step - loss: 5.0353e-04 - acc: 0.9998\n",
      "Epoch 8/10\n",
      "5000/5000 [==============================] - 2s 368us/step - loss: 1.9258e-04 - acc: 0.9998\n",
      "Epoch 9/10\n",
      "5000/5000 [==============================] - 2s 384us/step - loss: 6.7812e-06 - acc: 1.0000\n",
      "Epoch 10/10\n",
      "5000/5000 [==============================] - 2s 385us/step - loss: 8.5091e-04 - acc: 0.9998\n",
      "19.042667150497437\n"
     ]
    }
   ],
   "source": [
    "# more layer for fly hashed data 40 6\n",
    "model = Sequential()\n",
    "model.add(Dense(64, activation='relu'))\n",
    "# model.add(Dropout(0.1))\n",
    "model.add(Dense(10, activation='softmax'))\n",
    "model.compile(optimizer='rmsprop',\n",
    "              loss='categorical_crossentropy',\n",
    "              metrics=['accuracy'])\n",
    "time_callback = TimeHistory()\n",
    "model.fit(flyTrain_40_6, np_train_label, epochs=10, shuffle=True, callbacks=[time_callback])\n",
    "times = time_callback.times\n",
    "print (np.sum(times))"
   ]
  },
  {
   "cell_type": "markdown",
   "metadata": {},
   "source": [
    "#### And evaluate"
   ]
  },
  {
   "cell_type": "code",
   "execution_count": 129,
   "metadata": {},
   "outputs": [
    {
     "name": "stdout",
     "output_type": "stream",
     "text": [
      "1000/1000 [==============================] - 0s 343us/step\n"
     ]
    },
    {
     "data": {
      "text/plain": [
       "[0.5758868483174592, 0.929]"
      ]
     },
     "execution_count": 129,
     "metadata": {},
     "output_type": "execute_result"
    }
   ],
   "source": [
    "model.evaluate(flyTest_40_6, np_test_label)"
   ]
  },
  {
   "cell_type": "markdown",
   "metadata": {},
   "source": [
    "### FInally, Model for fly hashed with 40-fold expansion and conv=90; 10-fold expansion and conv=90"
   ]
  },
  {
   "cell_type": "code",
   "execution_count": 130,
   "metadata": {},
   "outputs": [
    {
     "name": "stdout",
     "output_type": "stream",
     "text": [
      "Epoch 1/10\n",
      "5000/5000 [==============================] - 2s 432us/step - loss: 0.7115 - acc: 0.8380\n",
      "Epoch 2/10\n",
      "5000/5000 [==============================] - 2s 334us/step - loss: 0.1577 - acc: 0.9634\n",
      "Epoch 3/10\n",
      "5000/5000 [==============================] - 2s 339us/step - loss: 0.0609 - acc: 0.9874\n",
      "Epoch 4/10\n",
      "5000/5000 [==============================] - 2s 367us/step - loss: 0.0365 - acc: 0.9934ETA: 1s\n",
      "Epoch 5/10\n",
      "5000/5000 [==============================] - 2s 368us/step - loss: 0.0240 - acc: 0.9966\n",
      "Epoch 6/10\n",
      "5000/5000 [==============================] - 2s 379us/step - loss: 0.0200 - acc: 0.9986\n",
      "Epoch 7/10\n",
      "5000/5000 [==============================] - 2s 382us/step - loss: 0.0173 - acc: 0.9982\n",
      "Epoch 8/10\n",
      "5000/5000 [==============================] - 2s 363us/step - loss: 0.0155 - acc: 0.9990\n",
      "Epoch 9/10\n",
      "5000/5000 [==============================] - 2s 367us/step - loss: 0.0138 - acc: 0.9990\n",
      "Epoch 10/10\n",
      "5000/5000 [==============================] - 2s 361us/step - loss: 0.0134 - acc: 0.9990\n",
      "18.465348482131958\n"
     ]
    }
   ],
   "source": [
    "# model for fly hashed data 40 90\n",
    "model = Sequential()\n",
    "model.add(Dense(32, activation='relu'))\n",
    "# model.add(Dropout(0.1))\n",
    "model.add(Dense(10, activation='softmax'))\n",
    "model.compile(optimizer='rmsprop',\n",
    "              loss='categorical_crossentropy',\n",
    "              metrics=['accuracy'])\n",
    "model.fit(flyTrain_40_90, np_train_label, epochs=10, shuffle=True, callbacks=[time_callback])\n",
    "times = time_callback.times\n",
    "print (np.sum(times))"
   ]
  },
  {
   "cell_type": "markdown",
   "metadata": {},
   "source": [
    "#### And evaluate"
   ]
  },
  {
   "cell_type": "code",
   "execution_count": 131,
   "metadata": {},
   "outputs": [
    {
     "name": "stdout",
     "output_type": "stream",
     "text": [
      "1000/1000 [==============================] - 0s 365us/step\n"
     ]
    },
    {
     "data": {
      "text/plain": [
       "[0.6525239945249632, 0.929]"
      ]
     },
     "execution_count": 131,
     "metadata": {},
     "output_type": "execute_result"
    }
   ],
   "source": [
    "model.evaluate(flyTest_40_90, np_test_label)"
   ]
  },
  {
   "cell_type": "code",
   "execution_count": 132,
   "metadata": {},
   "outputs": [
    {
     "name": "stdout",
     "output_type": "stream",
     "text": [
      "Epoch 1/10\n",
      "5000/5000 [==============================] - 1s 254us/step - loss: 0.4684 - acc: 0.8620\n",
      "Epoch 2/10\n",
      "5000/5000 [==============================] - 1s 151us/step - loss: 0.0670 - acc: 0.9808\n",
      "Epoch 3/10\n",
      "5000/5000 [==============================] - 1s 178us/step - loss: 0.0179 - acc: 0.9946\n",
      "Epoch 4/10\n",
      "5000/5000 [==============================] - 1s 166us/step - loss: 0.0068 - acc: 0.9990\n",
      "Epoch 5/10\n",
      "5000/5000 [==============================] - 1s 172us/step - loss: 0.0035 - acc: 0.9998\n",
      "Epoch 6/10\n",
      "5000/5000 [==============================] - ETA: 0s - loss: 0.0037 - acc: 0.999 - 1s 164us/step - loss: 0.0036 - acc: 0.9996\n",
      "Epoch 7/10\n",
      "5000/5000 [==============================] - 1s 184us/step - loss: 0.0032 - acc: 0.9998\n",
      "Epoch 8/10\n",
      "5000/5000 [==============================] - 1s 184us/step - loss: 0.0032 - acc: 0.9998\n",
      "Epoch 9/10\n",
      "5000/5000 [==============================] - 1s 170us/step - loss: 0.0032 - acc: 0.9998\n",
      "Epoch 10/10\n",
      "5000/5000 [==============================] - 1s 173us/step - loss: 0.0032 - acc: 0.9998\n",
      "8.978439807891846\n"
     ]
    }
   ],
   "source": [
    "#model for fly hashed input 10 90\n",
    "model = Sequential()\n",
    "model.add(Dense(32, activation='relu'))\n",
    "# model.add(Dropout(0.5))\n",
    "model.add(Dense(10, activation='softmax'))\n",
    "model.compile(optimizer='rmsprop',\n",
    "              loss='categorical_crossentropy',\n",
    "              metrics=['accuracy'])\n",
    "model.fit(flyTrain_10_90, np_train_label, epochs=10, shuffle=True, callbacks=[time_callback])\n",
    "times = time_callback.times\n",
    "print (np.sum(times))"
   ]
  },
  {
   "cell_type": "markdown",
   "metadata": {},
   "source": [
    "#### And evaluate"
   ]
  },
  {
   "cell_type": "code",
   "execution_count": null,
   "metadata": {},
   "outputs": [],
   "source": [
    "model.evaluate(flyTest_10_90, np_test_label)"
   ]
  },
  {
   "cell_type": "markdown",
   "metadata": {},
   "source": [
    "# 3. Adaptive Dropout"
   ]
  },
  {
   "cell_type": "markdown",
   "metadata": {},
   "source": [
    "### Use the same MNIST train and test data as in Low-Rank, above"
   ]
  },
  {
   "cell_type": "code",
   "execution_count": 134,
   "metadata": {},
   "outputs": [
    {
     "name": "stdout",
     "output_type": "stream",
     "text": [
      "(5000, 784)\n",
      "(1000, 784)\n",
      "(5000, 10)\n",
      "(1000, 10)\n"
     ]
    }
   ],
   "source": [
    "print (np_train_data.shape)\n",
    "print (np_test_data.shape)\n",
    "print (np_train_label.shape)\n",
    "print (np_test_label.shape)"
   ]
  },
  {
   "cell_type": "markdown",
   "metadata": {},
   "source": [
    "## Implement the Adaptive Dropout Class"
   ]
  },
  {
   "cell_type": "code",
   "execution_count": 135,
   "metadata": {},
   "outputs": [],
   "source": [
    "adapt_dropout_rate = 0.6\n",
    "cur_epoch = 1\n",
    "total_epochs = 10\n",
    "\n",
    "# callback class at the end of each epoch to increment cur_epoch\n",
    "class IncCurEpoch(keras.callbacks.Callback):\n",
    "    def __init__(self):\n",
    "        self.counter_list = []\n",
    "        self.temp = []\n",
    "        \n",
    "    def on_train_begin(self, logs={}):\n",
    "        self.counter_list = []\n",
    "        self.temp = []\n",
    "\n",
    "    def on_epoch_end(self, batch, logs={}):\n",
    "        global cur_epoch\n",
    "        self.counter_list.append(cur_epoch)\n",
    "        self.temp.append(max(0, 1-cur_epoch/total_epochs) * adapt_dropout_rate)\n",
    "        cur_epoch += 1\n",
    "        \n",
    "    def show_counter_list(self):\n",
    "        print (self.counter_list)\n",
    "        print (self.temp)\n",
    "\n",
    "class Dropout(Layer):\n",
    "    ''' \n",
    "        Applies Dropout to the input. Dropout consists in randomly setting\n",
    "        a fraction p of input units to 0 at each update during training time,\n",
    "        which helps prevent overfitting.\n",
    "\n",
    "        # Arguments\n",
    "            p: float between 0 and 1. Fraction of the input units to drop.\n",
    "\n",
    "        # References\n",
    "            - [Dropout: A Simple Way to Prevent Neural Networks from Overfitting](http://www.cs.toronto.edu/~rsalakhu/papers/srivastava14a.pdf)\n",
    "    '''\n",
    "    def __init__(self, p, adaptive=False, **kwargs):\n",
    "        self.init_p = p\n",
    "        self.p = p\n",
    "        self.adaptive = adaptive\n",
    "        if 0. < self.init_p < 1.:\n",
    "            self.uses_learning_phase = True\n",
    "        self.supports_masking = True\n",
    "        super(Dropout, self).__init__(**kwargs)\n",
    "\n",
    "    def call(self, x, mask=None):\n",
    "        self.p = max(0, 1-cur_epoch/total_epochs) * self.init_p if self.adaptive else self.init_p\n",
    "        if 0. < self.init_p < 1.:\n",
    "            x = K.in_train_phase(K.dropout(x, level=self.p), x)\n",
    "        return x\n",
    "\n",
    "    def get_config(self):\n",
    "        config = {'p': self.p}\n",
    "        base_config = super(Dropout, self).get_config()\n",
    "        return dict(list(base_config.items()) + list(config.items()))"
   ]
  },
  {
   "cell_type": "markdown",
   "metadata": {},
   "source": [
    "### Create adaptive model for 40-fold expansion and conv=6"
   ]
  },
  {
   "cell_type": "code",
   "execution_count": 136,
   "metadata": {},
   "outputs": [
    {
     "name": "stdout",
     "output_type": "stream",
     "text": [
      "Epoch 1/10\n",
      "5000/5000 [==============================] - 2s 487us/step - loss: 0.9439 - acc: 0.6870\n",
      "Epoch 2/10\n",
      "5000/5000 [==============================] - 2s 348us/step - loss: 0.4986 - acc: 0.8316\n",
      "Epoch 3/10\n",
      "5000/5000 [==============================] - 2s 369us/step - loss: 0.3683 - acc: 0.8796\n",
      "Epoch 4/10\n",
      "5000/5000 [==============================] - 2s 335us/step - loss: 0.3020 - acc: 0.9072\n",
      "Epoch 5/10\n",
      "5000/5000 [==============================] - 2s 352us/step - loss: 0.2853 - acc: 0.9132\n",
      "Epoch 6/10\n",
      "5000/5000 [==============================] - 2s 348us/step - loss: 0.2425 - acc: 0.9188\n",
      "Epoch 7/10\n",
      "5000/5000 [==============================] - 2s 354us/step - loss: 0.2066 - acc: 0.9368\n",
      "Epoch 8/10\n",
      "5000/5000 [==============================] - 2s 348us/step - loss: 0.2056 - acc: 0.9380\n",
      "Epoch 9/10\n",
      "5000/5000 [==============================] - 2s 344us/step - loss: 0.1930 - acc: 0.9410\n",
      "Epoch 10/10\n",
      "5000/5000 [==============================] - 2s 339us/step - loss: 0.1803 - acc: 0.9450\n",
      "18.124353885650635\n"
     ]
    }
   ],
   "source": [
    "#model for adaptive dropout fly hashed input 40 6\n",
    "adapt_dropout_rate = 0.5\n",
    "cur_epoch = 1\n",
    "inc_cur_epoch = IncCurEpoch()\n",
    "model = Sequential()\n",
    "model.add(Dense(32, activation='relu'))\n",
    "model.add(Dropout(adapt_dropout_rate, adaptive=True))\n",
    "model.add(Dense(10, activation='softmax'))\n",
    "model.compile(optimizer='rmsprop',\n",
    "              loss='categorical_crossentropy',\n",
    "              metrics=['accuracy'])\n",
    "model.fit(flyTrain_40_6, np_train_label, epochs=10, shuffle=True, callbacks=[inc_cur_epoch,time_callback])\n",
    "times = time_callback.times\n",
    "print (np.sum(times))"
   ]
  },
  {
   "cell_type": "markdown",
   "metadata": {},
   "source": [
    "#### And evaluate"
   ]
  },
  {
   "cell_type": "code",
   "execution_count": 137,
   "metadata": {},
   "outputs": [
    {
     "name": "stdout",
     "output_type": "stream",
     "text": [
      "1000/1000 [==============================] - 0s 376us/step\n"
     ]
    },
    {
     "data": {
      "text/plain": [
       "[0.4397753999531269, 0.92]"
      ]
     },
     "execution_count": 137,
     "metadata": {},
     "output_type": "execute_result"
    }
   ],
   "source": [
    "model.evaluate(flyTest_40_6, np_test_label)"
   ]
  },
  {
   "cell_type": "markdown",
   "metadata": {},
   "source": [
    "### Compare to static Dropout model (40-fold and conv=6)"
   ]
  },
  {
   "cell_type": "code",
   "execution_count": 138,
   "metadata": {},
   "outputs": [
    {
     "name": "stdout",
     "output_type": "stream",
     "text": [
      "Epoch 1/10\n",
      "5000/5000 [==============================] - 3s 503us/step - loss: 1.0377 - acc: 0.6558\n",
      "Epoch 2/10\n",
      "5000/5000 [==============================] - 2s 362us/step - loss: 0.6422 - acc: 0.7902\n",
      "Epoch 3/10\n",
      "5000/5000 [==============================] - 2s 379us/step - loss: 0.4731 - acc: 0.8516\n",
      "Epoch 4/10\n",
      "5000/5000 [==============================] - 2s 367us/step - loss: 0.3772 - acc: 0.8778\n",
      "Epoch 5/10\n",
      "5000/5000 [==============================] - 2s 374us/step - loss: 0.3185 - acc: 0.8962\n",
      "Epoch 6/10\n",
      "5000/5000 [==============================] - 2s 414us/step - loss: 0.2917 - acc: 0.9028 0s - loss: 0.2941 - acc: 0.90\n",
      "Epoch 7/10\n",
      "5000/5000 [==============================] - 2s 390us/step - loss: 0.2520 - acc: 0.9126\n",
      "Epoch 8/10\n",
      "5000/5000 [==============================] - 2s 338us/step - loss: 0.2347 - acc: 0.9176\n",
      "Epoch 9/10\n",
      "5000/5000 [==============================] - 2s 342us/step - loss: 0.2249 - acc: 0.9184\n",
      "Epoch 10/10\n",
      "5000/5000 [==============================] - 2s 378us/step - loss: 0.2129 - acc: 0.9258\n",
      "19.243090391159058\n"
     ]
    }
   ],
   "source": [
    "#model for static dropout fly hashed input 40 6\n",
    "adapt_dropout_rate = 0.5\n",
    "cur_epoch = 1\n",
    "inc_cur_epoch = IncCurEpoch()\n",
    "model = Sequential()\n",
    "model.add(Dense(32, activation='relu'))\n",
    "model.add(Dropout(adapt_dropout_rate, adaptive=False))\n",
    "model.add(Dense(10, activation='softmax'))\n",
    "model.compile(optimizer='rmsprop',\n",
    "              loss='categorical_crossentropy',\n",
    "              metrics=['accuracy'])\n",
    "model.fit(flyTrain_40_6, np_train_label, epochs=10, shuffle=True, callbacks=[inc_cur_epoch,time_callback])\n",
    "times = time_callback.times\n",
    "print (np.sum(times))"
   ]
  },
  {
   "cell_type": "markdown",
   "metadata": {},
   "source": [
    "#### And evaluate"
   ]
  },
  {
   "cell_type": "code",
   "execution_count": 139,
   "metadata": {},
   "outputs": [
    {
     "name": "stdout",
     "output_type": "stream",
     "text": [
      "1000/1000 [==============================] - 1s 726us/step\n"
     ]
    },
    {
     "data": {
      "text/plain": [
       "[0.44891335418820383, 0.925]"
      ]
     },
     "execution_count": 139,
     "metadata": {},
     "output_type": "execute_result"
    }
   ],
   "source": [
    "model.evaluate(flyTest_40_6, np_test_label)"
   ]
  },
  {
   "cell_type": "markdown",
   "metadata": {},
   "source": [
    "### As well, compare adaptive dropout on 10-fold and conv=90 to a static dropout (similar to above)"
   ]
  },
  {
   "cell_type": "code",
   "execution_count": 140,
   "metadata": {},
   "outputs": [
    {
     "name": "stdout",
     "output_type": "stream",
     "text": [
      "Epoch 1/20\n",
      "5000/5000 [==============================] - 2s 318us/step - loss: 0.9729 - acc: 0.7016\n",
      "Epoch 2/20\n",
      "5000/5000 [==============================] - 1s 172us/step - loss: 0.4678 - acc: 0.8632\n",
      "Epoch 3/20\n",
      "5000/5000 [==============================] - 1s 151us/step - loss: 0.3133 - acc: 0.9006\n",
      "Epoch 4/20\n",
      "5000/5000 [==============================] - 1s 149us/step - loss: 0.2419 - acc: 0.9240\n",
      "Epoch 5/20\n",
      "5000/5000 [==============================] - 1s 151us/step - loss: 0.2056 - acc: 0.9372\n",
      "Epoch 6/20\n",
      "5000/5000 [==============================] - 1s 154us/step - loss: 0.1839 - acc: 0.9442\n",
      "Epoch 7/20\n",
      "5000/5000 [==============================] - 1s 155us/step - loss: 0.1556 - acc: 0.9520\n",
      "Epoch 8/20\n",
      "5000/5000 [==============================] - 1s 167us/step - loss: 0.1781 - acc: 0.9488\n",
      "Epoch 9/20\n",
      "5000/5000 [==============================] - 1s 183us/step - loss: 0.1319 - acc: 0.9568\n",
      "Epoch 10/20\n",
      "5000/5000 [==============================] - 1s 154us/step - loss: 0.1120 - acc: 0.9638\n",
      "Epoch 11/20\n",
      "5000/5000 [==============================] - 1s 151us/step - loss: 0.1316 - acc: 0.9606\n",
      "Epoch 12/20\n",
      "5000/5000 [==============================] - 1s 191us/step - loss: 0.1191 - acc: 0.9616\n",
      "Epoch 13/20\n",
      "5000/5000 [==============================] - 1s 164us/step - loss: 0.1093 - acc: 0.9662\n",
      "Epoch 14/20\n",
      "5000/5000 [==============================] - 1s 156us/step - loss: 0.1084 - acc: 0.9654\n",
      "Epoch 15/20\n",
      "5000/5000 [==============================] - 1s 149us/step - loss: 0.1030 - acc: 0.9718\n",
      "Epoch 16/20\n",
      "5000/5000 [==============================] - 1s 178us/step - loss: 0.1085 - acc: 0.9694\n",
      "Epoch 17/20\n",
      "5000/5000 [==============================] - 1s 179us/step - loss: 0.1109 - acc: 0.9668\n",
      "Epoch 18/20\n",
      "5000/5000 [==============================] - 1s 175us/step - loss: 0.1007 - acc: 0.9700\n",
      "Epoch 19/20\n",
      "5000/5000 [==============================] - 1s 177us/step - loss: 0.1126 - acc: 0.9674\n",
      "Epoch 20/20\n",
      "5000/5000 [==============================] - 1s 189us/step - loss: 0.0882 - acc: 0.9748\n",
      "17.338457345962524\n"
     ]
    }
   ],
   "source": [
    "#model for adaptive dropout fly hashed input 10 90\n",
    "cur_epoch = 1\n",
    "inc_cur_epoch = IncCurEpoch()\n",
    "model = Sequential()\n",
    "model.add(Dense(32, activation='relu'))\n",
    "model.add(Dropout(adapt_dropout_rate, adaptive=True))\n",
    "model.add(Dense(10, activation='softmax'))\n",
    "model.compile(optimizer='rmsprop',\n",
    "              loss='categorical_crossentropy',\n",
    "              metrics=['accuracy'])\n",
    "model.fit(flyTrain_10_90, np_train_label, epochs=20, shuffle=True, callbacks=[inc_cur_epoch,time_callback])\n",
    "times = time_callback.times\n",
    "print (np.sum(times))"
   ]
  },
  {
   "cell_type": "code",
   "execution_count": 141,
   "metadata": {},
   "outputs": [
    {
     "name": "stdout",
     "output_type": "stream",
     "text": [
      "[1, 2, 3, 4, 5, 6, 7, 8, 9, 10, 11, 12, 13, 14, 15, 16, 17, 18, 19, 20]\n",
      "[0.45, 0.4, 0.35, 0.3, 0.25, 0.2, 0.15000000000000002, 0.09999999999999998, 0.04999999999999999, 0.0, 0.0, 0.0, 0.0, 0.0, 0.0, 0.0, 0.0, 0.0, 0.0, 0.0]\n",
      "21\n"
     ]
    }
   ],
   "source": [
    "inc_cur_epoch.show_counter_list()\n",
    "print (cur_epoch)"
   ]
  },
  {
   "cell_type": "markdown",
   "metadata": {},
   "source": [
    "#### And evaluate"
   ]
  },
  {
   "cell_type": "code",
   "execution_count": 142,
   "metadata": {},
   "outputs": [
    {
     "name": "stdout",
     "output_type": "stream",
     "text": [
      "1000/1000 [==============================] - 0s 225us/step\n"
     ]
    },
    {
     "data": {
      "text/plain": [
       "[0.6492534777148102, 0.922]"
      ]
     },
     "execution_count": 142,
     "metadata": {},
     "output_type": "execute_result"
    }
   ],
   "source": [
    "model.evaluate(flyTest_10_90, np_test_label)"
   ]
  },
  {
   "cell_type": "code",
   "execution_count": 143,
   "metadata": {},
   "outputs": [
    {
     "name": "stdout",
     "output_type": "stream",
     "text": [
      "Epoch 1/20\n",
      "5000/5000 [==============================] - 2s 308us/step - loss: 1.0641 - acc: 0.6580\n",
      "Epoch 2/20\n",
      "5000/5000 [==============================] - 1s 146us/step - loss: 0.5093 - acc: 0.8366\n",
      "Epoch 3/20\n",
      "5000/5000 [==============================] - 1s 152us/step - loss: 0.3994 - acc: 0.8800\n",
      "Epoch 4/20\n",
      "5000/5000 [==============================] - 1s 148us/step - loss: 0.3149 - acc: 0.9054\n",
      "Epoch 5/20\n",
      "5000/5000 [==============================] - 1s 161us/step - loss: 0.2640 - acc: 0.9178\n",
      "Epoch 6/20\n",
      "5000/5000 [==============================] - 1s 163us/step - loss: 0.2117 - acc: 0.9318\n",
      "Epoch 7/20\n",
      "5000/5000 [==============================] - 1s 158us/step - loss: 0.1896 - acc: 0.9378\n",
      "Epoch 8/20\n",
      "5000/5000 [==============================] - 1s 149us/step - loss: 0.1847 - acc: 0.9382\n",
      "Epoch 9/20\n",
      "5000/5000 [==============================] - 1s 152us/step - loss: 0.1666 - acc: 0.9462\n",
      "Epoch 10/20\n",
      "5000/5000 [==============================] - 1s 154us/step - loss: 0.1483 - acc: 0.9514\n",
      "Epoch 11/20\n",
      "5000/5000 [==============================] - 1s 159us/step - loss: 0.1427 - acc: 0.9550\n",
      "Epoch 12/20\n",
      "5000/5000 [==============================] - 1s 171us/step - loss: 0.1327 - acc: 0.9570\n",
      "Epoch 13/20\n",
      "5000/5000 [==============================] - 1s 156us/step - loss: 0.1475 - acc: 0.9558\n",
      "Epoch 14/20\n",
      "5000/5000 [==============================] - 1s 150us/step - loss: 0.1500 - acc: 0.9552\n",
      "Epoch 15/20\n",
      "5000/5000 [==============================] - 1s 156us/step - loss: 0.1282 - acc: 0.9604\n",
      "Epoch 16/20\n",
      "5000/5000 [==============================] - 1s 157us/step - loss: 0.1366 - acc: 0.9590 0s - loss: 0.2234\n",
      "Epoch 17/20\n",
      "5000/5000 [==============================] - 1s 156us/step - loss: 0.1248 - acc: 0.9594\n",
      "Epoch 18/20\n",
      "5000/5000 [==============================] - 1s 154us/step - loss: 0.1272 - acc: 0.9584\n",
      "Epoch 19/20\n",
      "5000/5000 [==============================] - 1s 153us/step - loss: 0.1093 - acc: 0.9662\n",
      "Epoch 20/20\n",
      "5000/5000 [==============================] - 1s 156us/step - loss: 0.1198 - acc: 0.9660\n"
     ]
    },
    {
     "data": {
      "text/plain": [
       "<keras.callbacks.History at 0x1cb9d0d74a8>"
      ]
     },
     "execution_count": 143,
     "metadata": {},
     "output_type": "execute_result"
    }
   ],
   "source": [
    "dropout_rate = adapt_dropout_rate\n",
    "\n",
    "#model for static dropout fly hashed input 10 90\n",
    "cur_epoch = 1\n",
    "inc_cur_epoch = IncCurEpoch()\n",
    "model = Sequential()\n",
    "model.add(Dense(32, activation='relu'))\n",
    "model.add(Dropout(adapt_dropout_rate, adaptive=False))\n",
    "model.add(Dense(10, activation='softmax'))\n",
    "model.compile(optimizer='rmsprop',\n",
    "              loss='categorical_crossentropy',\n",
    "              metrics=['accuracy'])\n",
    "model.fit(flyTrain_10_90, np_train_label, epochs=20, shuffle=True, callbacks = [inc_cur_epoch])"
   ]
  },
  {
   "cell_type": "markdown",
   "metadata": {},
   "source": [
    "#### And evaluate (10-fold conv=90, static dropout)"
   ]
  },
  {
   "cell_type": "code",
   "execution_count": 144,
   "metadata": {},
   "outputs": [
    {
     "name": "stdout",
     "output_type": "stream",
     "text": [
      "1000/1000 [==============================] - 0s 235us/step\n"
     ]
    },
    {
     "data": {
      "text/plain": [
       "[0.5271735529601574, 0.923]"
      ]
     },
     "execution_count": 144,
     "metadata": {},
     "output_type": "execute_result"
    }
   ],
   "source": [
    "model.evaluate(flyTest_10_90, np_test_label)"
   ]
  }
 ],
 "metadata": {
  "kernelspec": {
   "display_name": "tf-GPU",
   "language": "python",
   "name": "tf-gpu"
  },
  "language_info": {
   "codemirror_mode": {
    "name": "ipython",
    "version": 3
   },
   "file_extension": ".py",
   "mimetype": "text/x-python",
   "name": "python",
   "nbconvert_exporter": "python",
   "pygments_lexer": "ipython3",
   "version": "3.6.7"
  }
 },
 "nbformat": 4,
 "nbformat_minor": 2
}
