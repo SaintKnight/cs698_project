{
 "cells": [
  {
   "cell_type": "markdown",
   "metadata": {},
   "source": [
    "# Extension of Locality Sensitive Hashing to a Classification Model\n",
    "\n",
    "Goal: attempt to extend the LSH outputs into a CNN model for image classification. \n",
    "\n",
    "Note: A Tensorflow-GPU kernel was used for this portion, but data are trivial enough that it should not be difficult on a CPU"
   ]
  },
  {
   "cell_type": "code",
   "execution_count": 71,
   "metadata": {},
   "outputs": [],
   "source": [
    "import os\n",
    "import pickle\n",
    "\n",
    "import numpy as np\n",
    "\n",
    "from keras.models import Sequential\n",
    "from keras.layers import Dense, Dropout, Flatten, Reshape\n",
    "from keras.layers import Conv2D, MaxPooling2D\n",
    "from skimage.io import imread\n",
    "from skimage.transform import resize\n",
    "\n",
    "from src.Fly import Flylsh as Fly\n",
    "from src.utils import benchmark\n",
    "\n",
    "import matplotlib.pyplot as plt\n",
    "%matplotlib inline"
   ]
  },
  {
   "cell_type": "markdown",
   "metadata": {},
   "source": [
    "### Load LSH (computed in LSH_clustering) and Yale Face data"
   ]
  },
  {
   "cell_type": "code",
   "execution_count": 2,
   "metadata": {},
   "outputs": [
    {
     "name": "stdout",
     "output_type": "stream",
     "text": [
      "(166,)\n",
      "(166, 81920, 1)\n",
      "(166, 81920)\n"
     ]
    }
   ],
   "source": [
    "# read and reshape hashes\n",
    "pickle_in = open(os.path.join(\"results\", \"face_hashes_hashlen_0.05k.pkl\"),\"rb\")\n",
    "hashes = pickle.load(pickle_in)\n",
    "print (hashes.shape)\n",
    "temp = np.array([xx.toarray() for xx in hashes])\n",
    "print (temp.shape)\n",
    "hashes = np.squeeze(temp, axis=(2,))\n",
    "print (hashes.shape)\n",
    "# print (hashes)\n",
    "\n",
    "faces = [os.path.join(\"data\",\"yalefaces\", img) for img in os.listdir(os.path.join(\"data\",\"yalefaces\")) if img.startswith(\"subject\")]\n",
    "labels = [int(f.split(\"subject\")[-1][:2]) for f in faces]\n",
    "data = np.array([np.flipud(imread(faces[i])) for i in range(len(faces))])\n",
    "input_row_data = data    # secondary reference to maintain original data obj\n",
    "input_data = np.array(data)"
   ]
  },
  {
   "cell_type": "markdown",
   "metadata": {},
   "source": [
    "### Pepare labels for clustering\n",
    "These are given by the subject number"
   ]
  },
  {
   "cell_type": "code",
   "execution_count": 3,
   "metadata": {},
   "outputs": [
    {
     "name": "stdout",
     "output_type": "stream",
     "text": [
      "[15, 14, 15, 15, 13, 10, 9, 10, 8, 6, 6, 4, 3, 2, 1]\n",
      "(151, 15)\n",
      "(15, 15)\n"
     ]
    }
   ],
   "source": [
    "num_kind = 15\n",
    "ind = np.array([158, 145, 162, 165, 135, 110, 95, 100, 80, 60, 65, 38, 30, 15, 3])\n",
    "print ([labels[i] for i in ind])\n",
    "\n",
    "labels = np.array(labels)\n",
    "label_out = np.zeros((labels.shape[0], num_kind))\n",
    "for i in range(len(labels)):\n",
    "    label_out[i][labels[i]-1] = 1\n",
    "\n",
    "train_mask = np.ones(np.array(labels).shape, bool)\n",
    "train_mask[ind] = False\n",
    "train_labels = label_out[train_mask]\n",
    "\n",
    "test_mask = np.invert(train_mask)\n",
    "test_labels = label_out[test_mask]\n",
    "\n",
    "print (train_labels.shape)\n",
    "print (test_labels.shape)\n",
    "\n"
   ]
  },
  {
   "cell_type": "markdown",
   "metadata": {},
   "source": [
    "### Prepare raw and processed data, for feeding into NN"
   ]
  },
  {
   "cell_type": "code",
   "execution_count": 4,
   "metadata": {},
   "outputs": [
    {
     "name": "stdout",
     "output_type": "stream",
     "text": [
      "(166, 77760)\n",
      "(151, 77760)\n",
      "(15, 77760)\n"
     ]
    }
   ],
   "source": [
    "# prepare row data\n",
    "row_data = input_row_data.reshape((input_row_data.shape[0], input_row_data.shape[1] * input_row_data.shape[2]))\n",
    "train_row_data = row_data[train_mask]\n",
    "test_row_data = row_data[test_mask]\n",
    "\n",
    "print (row_data.shape)\n",
    "print (train_row_data.shape)\n",
    "print (test_row_data.shape)"
   ]
  },
  {
   "cell_type": "code",
   "execution_count": 5,
   "metadata": {},
   "outputs": [
    {
     "name": "stderr",
     "output_type": "stream",
     "text": [
      "C:\\Users\\bcech\\Anaconda3\\envs\\tf-gpu\\lib\\site-packages\\skimage\\transform\\_warps.py:105: UserWarning: The default mode, 'constant', will be changed to 'reflect' in skimage 0.15.\n",
      "  warn(\"The default mode, 'constant', will be changed to 'reflect' in \"\n"
     ]
    },
    {
     "name": "stdout",
     "output_type": "stream",
     "text": [
      "(166, 4096)\n",
      "(151, 4096)\n",
      "(15, 4096)\n"
     ]
    }
   ],
   "source": [
    "# prepare resized data\n",
    "resize_64 = [resize(img, (64, 64), anti_aliasing=True) for img in data]\n",
    "input_data = np.array(resize_64)\n",
    "resized_data = input_data.reshape((input_data.shape[0], input_data.shape[1] * input_data.shape[2]))\n",
    "train_resized_data = resized_data[train_mask]\n",
    "test_resized_data = resized_data[test_mask]\n",
    "\n",
    "print (resized_data.shape)\n",
    "print (train_resized_data.shape)\n",
    "print (test_resized_data.shape)"
   ]
  },
  {
   "cell_type": "code",
   "execution_count": 6,
   "metadata": {},
   "outputs": [
    {
     "name": "stdout",
     "output_type": "stream",
     "text": [
      "(166, 81920)\n",
      "(151, 81920)\n",
      "(15, 81920)\n"
     ]
    }
   ],
   "source": [
    "# prepare fly data\n",
    "train_hashes = hashes[train_mask]\n",
    "test_hashes = hashes[test_mask]\n",
    "\n",
    "print (hashes.shape)\n",
    "print (train_hashes.shape)\n",
    "print (test_hashes.shape)"
   ]
  },
  {
   "cell_type": "markdown",
   "metadata": {},
   "source": [
    "## Create Keras Deep Network Model for full Images"
   ]
  },
  {
   "cell_type": "code",
   "execution_count": 7,
   "metadata": {},
   "outputs": [],
   "source": [
    "# model for raw input: input_dim=(243, 320)= 77760\n",
    "model = Sequential()\n",
    "model.add(Dense(1280, input_dim=77760, activation='relu'))\n",
    "model.add(Dense(15, activation='softmax'))\n",
    "model.compile(optimizer='rmsprop',\n",
    "              loss='categorical_crossentropy',\n",
    "              metrics=['accuracy'])"
   ]
  },
  {
   "cell_type": "markdown",
   "metadata": {},
   "source": [
    "### And train it"
   ]
  },
  {
   "cell_type": "code",
   "execution_count": 8,
   "metadata": {},
   "outputs": [
    {
     "name": "stdout",
     "output_type": "stream",
     "text": [
      "Epoch 1/15\n",
      "151/151 [==============================] - 5s 33ms/step - loss: 15.0507 - acc: 0.0662\n",
      "Epoch 2/15\n",
      "151/151 [==============================] - 0s 3ms/step - loss: 15.0507 - acc: 0.0662\n",
      "Epoch 3/15\n",
      "151/151 [==============================] - 0s 3ms/step - loss: 15.0507 - acc: 0.0662\n",
      "Epoch 4/15\n",
      "151/151 [==============================] - 0s 3ms/step - loss: 15.0507 - acc: 0.0662\n",
      "Epoch 5/15\n",
      "151/151 [==============================] - 0s 3ms/step - loss: 15.0507 - acc: 0.0662\n",
      "Epoch 6/15\n",
      "151/151 [==============================] - 0s 3ms/step - loss: 15.0507 - acc: 0.0662\n",
      "Epoch 7/15\n",
      "151/151 [==============================] - 0s 3ms/step - loss: 15.0507 - acc: 0.0662\n",
      "Epoch 8/15\n",
      "151/151 [==============================] - 0s 3ms/step - loss: 15.0507 - acc: 0.0662\n",
      "Epoch 9/15\n",
      "151/151 [==============================] - 0s 3ms/step - loss: 15.0507 - acc: 0.0662\n",
      "Epoch 10/15\n",
      "151/151 [==============================] - 0s 3ms/step - loss: 15.0507 - acc: 0.0662\n",
      "Epoch 11/15\n",
      "151/151 [==============================] - 0s 3ms/step - loss: 15.0507 - acc: 0.0662\n",
      "Epoch 12/15\n",
      "151/151 [==============================] - 0s 3ms/step - loss: 15.0507 - acc: 0.0662\n",
      "Epoch 13/15\n",
      "151/151 [==============================] - 0s 3ms/step - loss: 15.0507 - acc: 0.0662\n",
      "Epoch 14/15\n",
      "151/151 [==============================] - 0s 3ms/step - loss: 15.0507 - acc: 0.0662\n",
      "Epoch 15/15\n",
      "151/151 [==============================] - 0s 3ms/step - loss: 15.0507 - acc: 0.0662\n"
     ]
    },
    {
     "data": {
      "text/plain": [
       "<keras.callbacks.History at 0x1ca60bc30f0>"
      ]
     },
     "execution_count": 8,
     "metadata": {},
     "output_type": "execute_result"
    }
   ],
   "source": [
    "model.fit(train_row_data, train_labels, epochs=15)"
   ]
  },
  {
   "cell_type": "markdown",
   "metadata": {},
   "source": [
    "### Model Evaluation"
   ]
  },
  {
   "cell_type": "code",
   "execution_count": 9,
   "metadata": {},
   "outputs": [
    {
     "name": "stdout",
     "output_type": "stream",
     "text": [
      "\r",
      "15/15 [==============================] - 0s 3ms/step\n"
     ]
    },
    {
     "data": {
      "text/plain": [
       "[16.11809539794922, 0.0]"
      ]
     },
     "execution_count": 9,
     "metadata": {},
     "output_type": "execute_result"
    }
   ],
   "source": [
    "model.evaluate(test_row_data, test_labels)"
   ]
  },
  {
   "cell_type": "markdown",
   "metadata": {},
   "source": [
    "### Save history to compare"
   ]
  },
  {
   "cell_type": "code",
   "execution_count": 10,
   "metadata": {},
   "outputs": [],
   "source": [
    "cnn_243_history = model.history.history"
   ]
  },
  {
   "cell_type": "markdown",
   "metadata": {},
   "source": [
    "## Alternative CNN for resized (64x64) images"
   ]
  },
  {
   "cell_type": "code",
   "execution_count": 11,
   "metadata": {},
   "outputs": [],
   "source": [
    "model = Sequential()\n",
    "model.add(Reshape((64, 64, 1), input_shape=(4096,)))\n",
    "model.add(Conv2D(64, (3, 3), activation='relu'))\n",
    "model.add(Conv2D(64, (3, 3), activation='relu'))\n",
    "model.add(MaxPooling2D(pool_size=(2, 2)))\n",
    "model.add(Flatten())\n",
    "model.add(Dense(128, activation='relu'))\n",
    "model.add(Dense(15, activation='softmax'))\n",
    "model.compile(optimizer='rmsprop',\n",
    "              loss='categorical_crossentropy',\n",
    "              metrics=['accuracy'])"
   ]
  },
  {
   "cell_type": "code",
   "execution_count": 12,
   "metadata": {},
   "outputs": [
    {
     "name": "stdout",
     "output_type": "stream",
     "text": [
      "Epoch 1/15\n",
      "151/151 [==============================] - 1s 9ms/step - loss: 5.3905 - acc: 0.0927\n",
      "Epoch 2/15\n",
      "151/151 [==============================] - 0s 779us/step - loss: 2.0029 - acc: 0.3907 0s - loss: 2.1267 - acc: 0.312\n",
      "Epoch 3/15\n",
      "151/151 [==============================] - 0s 779us/step - loss: 1.0105 - acc: 0.7351\n",
      "Epoch 4/15\n",
      "151/151 [==============================] - 0s 773us/step - loss: 0.2882 - acc: 0.9205\n",
      "Epoch 5/15\n",
      "151/151 [==============================] - 0s 766us/step - loss: 0.2017 - acc: 0.9205\n",
      "Epoch 6/15\n",
      "151/151 [==============================] - 0s 780us/step - loss: 0.0829 - acc: 0.9934\n",
      "Epoch 7/15\n",
      "151/151 [==============================] - 0s 773us/step - loss: 0.0158 - acc: 1.0000\n",
      "Epoch 8/15\n",
      "151/151 [==============================] - 0s 773us/step - loss: 0.0052 - acc: 1.0000\n",
      "Epoch 9/15\n",
      "151/151 [==============================] - 0s 780us/step - loss: 0.0033 - acc: 1.0000\n",
      "Epoch 10/15\n",
      "151/151 [==============================] - 0s 780us/step - loss: 0.0022 - acc: 1.0000\n",
      "Epoch 11/15\n",
      "151/151 [==============================] - 0s 779us/step - loss: 0.0016 - acc: 1.0000\n",
      "Epoch 12/15\n",
      "151/151 [==============================] - 0s 812us/step - loss: 0.0011 - acc: 1.0000\n",
      "Epoch 13/15\n",
      "151/151 [==============================] - 0s 826us/step - loss: 8.7700e-04 - acc: 1.0000\n",
      "Epoch 14/15\n",
      "151/151 [==============================] - 0s 839us/step - loss: 6.3425e-04 - acc: 1.0000\n",
      "Epoch 15/15\n",
      "151/151 [==============================] - 0s 800us/step - loss: 4.2631e-04 - acc: 1.0000\n"
     ]
    },
    {
     "data": {
      "text/plain": [
       "<keras.callbacks.History at 0x1ca1f3106a0>"
      ]
     },
     "execution_count": 12,
     "metadata": {},
     "output_type": "execute_result"
    }
   ],
   "source": [
    "model.fit(train_resized_data, train_labels, epochs=15)"
   ]
  },
  {
   "cell_type": "markdown",
   "metadata": {},
   "source": [
    "### Model evaluation"
   ]
  },
  {
   "cell_type": "code",
   "execution_count": 13,
   "metadata": {},
   "outputs": [
    {
     "name": "stdout",
     "output_type": "stream",
     "text": [
      "\r",
      "15/15 [==============================] - 0s 5ms/step\n"
     ]
    },
    {
     "data": {
      "text/plain": [
       "[0.242208793759346, 0.9333333373069763]"
      ]
     },
     "execution_count": 13,
     "metadata": {},
     "output_type": "execute_result"
    }
   ],
   "source": [
    "model.evaluate(test_resized_data, test_labels)"
   ]
  },
  {
   "cell_type": "markdown",
   "metadata": {},
   "source": [
    "### Save history to compare"
   ]
  },
  {
   "cell_type": "code",
   "execution_count": 14,
   "metadata": {},
   "outputs": [],
   "source": [
    "cnn_64_history = model.history.history"
   ]
  },
  {
   "cell_type": "markdown",
   "metadata": {},
   "source": [
    "## Alternative Deep Network for Fly LSH data"
   ]
  },
  {
   "cell_type": "code",
   "execution_count": 79,
   "metadata": {},
   "outputs": [
    {
     "name": "stdout",
     "output_type": "stream",
     "text": [
      "(151, 15)\n"
     ]
    }
   ],
   "source": [
    "print (train_labels.shape)\n",
    "model = Sequential()\n",
    "model.add(Dense(256, activation='relu'))\n",
    "model.add(Dense(15, activation='softmax'))\n",
    "model.compile(optimizer='rmsprop',\n",
    "              loss='categorical_crossentropy',\n",
    "              metrics=['accuracy'])"
   ]
  },
  {
   "cell_type": "code",
   "execution_count": 80,
   "metadata": {},
   "outputs": [
    {
     "name": "stdout",
     "output_type": "stream",
     "text": [
      "Epoch 1/15\n",
      "151/151 [==============================] - 1s 6ms/step - loss: 2.7089 - acc: 0.0861\n",
      "Epoch 2/15\n",
      "151/151 [==============================] - 0s 1ms/step - loss: 2.7045 - acc: 0.1987\n",
      "Epoch 3/15\n",
      "151/151 [==============================] - 0s 1ms/step - loss: 2.6999 - acc: 0.1987\n",
      "Epoch 4/15\n",
      "151/151 [==============================] - 0s 1ms/step - loss: 2.6958 - acc: 0.1921\n",
      "Epoch 5/15\n",
      "151/151 [==============================] - 0s 1ms/step - loss: 2.6906 - acc: 0.2450\n",
      "Epoch 6/15\n",
      "151/151 [==============================] - 0s 1ms/step - loss: 2.6857 - acc: 0.2649\n",
      "Epoch 7/15\n",
      "151/151 [==============================] - 0s 1ms/step - loss: 2.6802 - acc: 0.2715\n",
      "Epoch 8/15\n",
      "151/151 [==============================] - 0s 1ms/step - loss: 2.6746 - acc: 0.2119\n",
      "Epoch 9/15\n",
      "151/151 [==============================] - 0s 1ms/step - loss: 2.6683 - acc: 0.2848\n",
      "Epoch 10/15\n",
      "151/151 [==============================] - 0s 1ms/step - loss: 2.6618 - acc: 0.2914\n",
      "Epoch 11/15\n",
      "151/151 [==============================] - 0s 1ms/step - loss: 2.6542 - acc: 0.3179\n",
      "Epoch 12/15\n",
      "151/151 [==============================] - 0s 1ms/step - loss: 2.6471 - acc: 0.2914\n",
      "Epoch 13/15\n",
      "151/151 [==============================] - 0s 1ms/step - loss: 2.6387 - acc: 0.2781\n",
      "Epoch 14/15\n",
      "151/151 [==============================] - 0s 1ms/step - loss: 2.6310 - acc: 0.2848\n",
      "Epoch 15/15\n",
      "151/151 [==============================] - 0s 1ms/step - loss: 2.6221 - acc: 0.3046\n"
     ]
    },
    {
     "data": {
      "text/plain": [
       "<keras.callbacks.History at 0x1cb7ddf00f0>"
      ]
     },
     "execution_count": 80,
     "metadata": {},
     "output_type": "execute_result"
    }
   ],
   "source": [
    "model.fit(train_hashes, train_labels, epochs=15, shuffle=True)"
   ]
  },
  {
   "cell_type": "markdown",
   "metadata": {},
   "source": [
    "### Fly LSH + CNN Model evaluation"
   ]
  },
  {
   "cell_type": "code",
   "execution_count": 17,
   "metadata": {},
   "outputs": [
    {
     "name": "stdout",
     "output_type": "stream",
     "text": [
      "\r",
      "15/15 [==============================] - 0s 4ms/step\n"
     ]
    },
    {
     "data": {
      "text/plain": [
       "[2.6520156860351562, 0.20000000298023224]"
      ]
     },
     "execution_count": 17,
     "metadata": {},
     "output_type": "execute_result"
    }
   ],
   "source": [
    "model.evaluate(test_hashes, test_labels)"
   ]
  },
  {
   "cell_type": "markdown",
   "metadata": {},
   "source": [
    "### Save history to compare"
   ]
  },
  {
   "cell_type": "code",
   "execution_count": 18,
   "metadata": {},
   "outputs": [],
   "source": [
    "cnn_lsh_history = model.history.history"
   ]
  },
  {
   "cell_type": "markdown",
   "metadata": {},
   "source": [
    "## Compare 'vanilla' CNNs vs. CNN with LSH as input"
   ]
  },
  {
   "cell_type": "code",
   "execution_count": 61,
   "metadata": {},
   "outputs": [],
   "source": [
    "# plot each of the models' losses and accuracy over training epochs\n",
    "epochs = range(1,16)\n",
    "\n",
    "# cnn_243\n",
    "y_loss_243 = cnn_243_history['loss']\n",
    "y_acc_243 = cnn_243_history['acc']\n",
    "\n",
    "# cnn_64\n",
    "y_loss_64 = cnn_64_history['loss']\n",
    "y_acc_64 = cnn_64_history['acc']\n",
    "\n",
    "# cnn_lsh\n",
    "y_loss_lsh = cnn_lsh_history['loss']\n",
    "y_acc_lsh = cnn_lsh_history['acc']\n",
    "\n",
    "# fig, ax1 = plt.subplots(figsize=(8,5))\n",
    "\n",
    "# ax1.set_ylabel('Loss', color='black')\n",
    "# #ax1.plot(t, dataL, color=color)\n",
    "# ax1.plot(epochs, y_loss_243, marker='x', markerfacecolor='blue', markersize=8, color='skyblue', linewidth=2)\n",
    "# ax1.plot(epochs, y_loss_64, marker='1', markerfacecolor='red', markersize=8, color='red', linewidth=2)\n",
    "# ax1.plot(epochs, y_loss_lsh, marker='.', markerfacecolor='black', markersize=8, color='black', linewidth=2)\n",
    "\n",
    "# ax1.tick_params(axis='y', labelcolor='black')\n",
    "\n",
    "# ax2 = ax1.twinx()  # instantiate a second axes that shares the same x-axis\n",
    "\n",
    "# ax2.set_ylabel('Accuracy', color='black')  # we already handled the x-label with ax1\n",
    "# ax2.plot(epochs, y_acc_243, marker='x', color='blue', linewidth=2)\n",
    "# ax2.plot(epochs, y_acc_64, marker='1', color='magenta', linewidth=2)\n",
    "# ax2.plot(epochs, y_acc_lsh, marker='.', color='grey', linewidth=2)\n",
    "# ax2.tick_params(axis='y', labelcolor='black')\n",
    "\n",
    "# fig.legend(('243_loss', '64_loss', 'lsh_loss', '243_acc', '64_acc', 'lsh_acc'), loc='center')\n",
    "# plt.title(\"Accuracy and Loss over 15 epochs of CNN training\")\n",
    "# plt.show();"
   ]
  },
  {
   "cell_type": "code",
   "execution_count": 62,
   "metadata": {},
   "outputs": [
    {
     "data": {
      "image/png": "[encoded data removed]",
      "text/plain": [
       "<Figure size 576x360 with 1 Axes>"
      ]
     },
     "metadata": {
      "needs_background": "light"
     },
     "output_type": "display_data"
    }
   ],
   "source": [
    "fig, ax1 = plt.subplots(figsize=(8,5))\n",
    "\n",
    "ax1.plot(epochs, y_loss_243, marker='x', markerfacecolor='blue', markersize=8, color='skyblue', linewidth=2)\n",
    "ax1.plot(epochs, y_loss_64, marker='1', markerfacecolor='red', markersize=8, color='red', linewidth=2)\n",
    "ax1.plot(epochs, y_loss_lsh, marker='.', markerfacecolor='black', markersize=8, color='black', linewidth=2)\n",
    "\n",
    "fig.legend(('243_loss', '64_loss', 'lsh_loss'), loc='center')\n",
    "plt.title(\"Loss over 15 epochs of CNN training\")\n",
    "ax1.set_ylabel('Loss', color='black')\n",
    "ax1.set_xlabel('Epoch', color='black')\n",
    "\n",
    "plt.show();"
   ]
  },
  {
   "cell_type": "code",
   "execution_count": 63,
   "metadata": {},
   "outputs": [
    {
     "data": {
      "image/png": "[encoded data removed]",
      "text/plain": [
       "<Figure size 576x360 with 1 Axes>"
      ]
     },
     "metadata": {
      "needs_background": "light"
     },
     "output_type": "display_data"
    }
   ],
   "source": [
    "fig, ax2 = plt.subplots(figsize=(8,5))\n",
    "\n",
    "ax2.plot(epochs, y_acc_243, marker='x', color='blue', linewidth=2)\n",
    "ax2.plot(epochs, y_acc_64, marker='1', color='magenta', linewidth=2)\n",
    "ax2.plot(epochs, y_acc_lsh, marker='.', color='grey', linewidth=2)\n",
    "\n",
    "fig.legend(('243_acc', '64_acc', 'lsh_acc'), loc='center')\n",
    "plt.title(\"Accuracy over 15 epochs of CNN training\")\n",
    "ax2.set_ylabel('Accuracy', color='black')\n",
    "ax2.set_xlabel('Epoch', color='black')\n",
    "ax2.tick_params(axis='y', labelcolor='black')\n",
    "\n",
    "plt.show();"
   ]
  },
  {
   "cell_type": "code",
   "execution_count": null,
   "metadata": {},
   "outputs": [],
   "source": []
  }
 ],
 "metadata": {
  "kernelspec": {
   "display_name": "tf-GPU",
   "language": "python",
   "name": "tf-gpu"
  },
  "language_info": {
   "codemirror_mode": {
    "name": "ipython",
    "version": 3
   },
   "file_extension": ".py",
   "mimetype": "text/x-python",
   "name": "python",
   "nbconvert_exporter": "python",
   "pygments_lexer": "ipython3",
   "version": "3.6.7"
  }
 },
 "nbformat": 4,
 "nbformat_minor": 2
}
